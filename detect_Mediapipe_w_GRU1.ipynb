{
 "cells": [
  {
   "cell_type": "code",
   "execution_count": 1,
   "metadata": {},
   "outputs": [
    {
     "name": "stdout",
     "output_type": "stream",
     "text": [
      "Requirement already satisfied: mediapipe==0.10.11 in c:\\users\\user\\appdata\\local\\packages\\pythonsoftwarefoundation.python.3.11_qbz5n2kfra8p0\\localcache\\local-packages\\python311\\site-packages (0.10.11)\n",
      "Requirement already satisfied: absl-py in c:\\users\\user\\appdata\\local\\packages\\pythonsoftwarefoundation.python.3.11_qbz5n2kfra8p0\\localcache\\local-packages\\python311\\site-packages (from mediapipe==0.10.11) (2.1.0)\n",
      "Requirement already satisfied: attrs>=19.1.0 in c:\\users\\user\\appdata\\local\\packages\\pythonsoftwarefoundation.python.3.11_qbz5n2kfra8p0\\localcache\\local-packages\\python311\\site-packages (from mediapipe==0.10.11) (24.2.0)\n",
      "Requirement already satisfied: flatbuffers>=2.0 in c:\\users\\user\\appdata\\local\\packages\\pythonsoftwarefoundation.python.3.11_qbz5n2kfra8p0\\localcache\\local-packages\\python311\\site-packages (from mediapipe==0.10.11) (24.3.25)\n",
      "Requirement already satisfied: jax in c:\\users\\user\\appdata\\local\\packages\\pythonsoftwarefoundation.python.3.11_qbz5n2kfra8p0\\localcache\\local-packages\\python311\\site-packages (from mediapipe==0.10.11) (0.4.34)\n",
      "Requirement already satisfied: matplotlib in c:\\users\\user\\appdata\\local\\packages\\pythonsoftwarefoundation.python.3.11_qbz5n2kfra8p0\\localcache\\local-packages\\python311\\site-packages (from mediapipe==0.10.11) (3.9.2)\n",
      "Requirement already satisfied: numpy in c:\\users\\user\\appdata\\local\\packages\\pythonsoftwarefoundation.python.3.11_qbz5n2kfra8p0\\localcache\\local-packages\\python311\\site-packages (from mediapipe==0.10.11) (1.26.3)\n",
      "Requirement already satisfied: opencv-contrib-python in c:\\users\\user\\appdata\\local\\packages\\pythonsoftwarefoundation.python.3.11_qbz5n2kfra8p0\\localcache\\local-packages\\python311\\site-packages (from mediapipe==0.10.11) (4.10.0.84)\n",
      "Requirement already satisfied: protobuf<4,>=3.11 in c:\\users\\user\\appdata\\local\\packages\\pythonsoftwarefoundation.python.3.11_qbz5n2kfra8p0\\localcache\\local-packages\\python311\\site-packages (from mediapipe==0.10.11) (3.20.3)\n",
      "Requirement already satisfied: sounddevice>=0.4.4 in c:\\users\\user\\appdata\\local\\packages\\pythonsoftwarefoundation.python.3.11_qbz5n2kfra8p0\\localcache\\local-packages\\python311\\site-packages (from mediapipe==0.10.11) (0.5.1)\n",
      "Requirement already satisfied: CFFI>=1.0 in c:\\users\\user\\appdata\\local\\packages\\pythonsoftwarefoundation.python.3.11_qbz5n2kfra8p0\\localcache\\local-packages\\python311\\site-packages (from sounddevice>=0.4.4->mediapipe==0.10.11) (1.17.1)\n",
      "Requirement already satisfied: jaxlib<=0.4.34,>=0.4.34 in c:\\users\\user\\appdata\\local\\packages\\pythonsoftwarefoundation.python.3.11_qbz5n2kfra8p0\\localcache\\local-packages\\python311\\site-packages (from jax->mediapipe==0.10.11) (0.4.34)\n",
      "Requirement already satisfied: ml-dtypes>=0.2.0 in c:\\users\\user\\appdata\\local\\packages\\pythonsoftwarefoundation.python.3.11_qbz5n2kfra8p0\\localcache\\local-packages\\python311\\site-packages (from jax->mediapipe==0.10.11) (0.5.0)\n",
      "Requirement already satisfied: opt-einsum in c:\\users\\user\\appdata\\local\\packages\\pythonsoftwarefoundation.python.3.11_qbz5n2kfra8p0\\localcache\\local-packages\\python311\\site-packages (from jax->mediapipe==0.10.11) (3.4.0)\n",
      "Requirement already satisfied: scipy>=1.10 in c:\\users\\user\\appdata\\local\\packages\\pythonsoftwarefoundation.python.3.11_qbz5n2kfra8p0\\localcache\\local-packages\\python311\\site-packages (from jax->mediapipe==0.10.11) (1.14.1)\n",
      "Requirement already satisfied: contourpy>=1.0.1 in c:\\users\\user\\appdata\\local\\packages\\pythonsoftwarefoundation.python.3.11_qbz5n2kfra8p0\\localcache\\local-packages\\python311\\site-packages (from matplotlib->mediapipe==0.10.11) (1.3.0)\n",
      "Requirement already satisfied: cycler>=0.10 in c:\\users\\user\\appdata\\local\\packages\\pythonsoftwarefoundation.python.3.11_qbz5n2kfra8p0\\localcache\\local-packages\\python311\\site-packages (from matplotlib->mediapipe==0.10.11) (0.12.1)\n",
      "Requirement already satisfied: fonttools>=4.22.0 in c:\\users\\user\\appdata\\local\\packages\\pythonsoftwarefoundation.python.3.11_qbz5n2kfra8p0\\localcache\\local-packages\\python311\\site-packages (from matplotlib->mediapipe==0.10.11) (4.54.1)\n",
      "Requirement already satisfied: kiwisolver>=1.3.1 in c:\\users\\user\\appdata\\local\\packages\\pythonsoftwarefoundation.python.3.11_qbz5n2kfra8p0\\localcache\\local-packages\\python311\\site-packages (from matplotlib->mediapipe==0.10.11) (1.4.7)\n",
      "Requirement already satisfied: packaging>=20.0 in c:\\users\\user\\appdata\\local\\packages\\pythonsoftwarefoundation.python.3.11_qbz5n2kfra8p0\\localcache\\local-packages\\python311\\site-packages (from matplotlib->mediapipe==0.10.11) (24.1)\n",
      "Requirement already satisfied: pillow>=8 in c:\\users\\user\\appdata\\local\\packages\\pythonsoftwarefoundation.python.3.11_qbz5n2kfra8p0\\localcache\\local-packages\\python311\\site-packages (from matplotlib->mediapipe==0.10.11) (10.2.0)\n",
      "Requirement already satisfied: pyparsing>=2.3.1 in c:\\users\\user\\appdata\\local\\packages\\pythonsoftwarefoundation.python.3.11_qbz5n2kfra8p0\\localcache\\local-packages\\python311\\site-packages (from matplotlib->mediapipe==0.10.11) (3.1.4)\n",
      "Requirement already satisfied: python-dateutil>=2.7 in c:\\users\\user\\appdata\\local\\packages\\pythonsoftwarefoundation.python.3.11_qbz5n2kfra8p0\\localcache\\local-packages\\python311\\site-packages (from matplotlib->mediapipe==0.10.11) (2.9.0.post0)\n",
      "Requirement already satisfied: pycparser in c:\\users\\user\\appdata\\local\\packages\\pythonsoftwarefoundation.python.3.11_qbz5n2kfra8p0\\localcache\\local-packages\\python311\\site-packages (from CFFI>=1.0->sounddevice>=0.4.4->mediapipe==0.10.11) (2.22)\n",
      "Requirement already satisfied: six>=1.5 in c:\\users\\user\\appdata\\local\\packages\\pythonsoftwarefoundation.python.3.11_qbz5n2kfra8p0\\localcache\\local-packages\\python311\\site-packages (from python-dateutil>=2.7->matplotlib->mediapipe==0.10.11) (1.16.0)\n",
      "Note: you may need to restart the kernel to use updated packages.\n"
     ]
    }
   ],
   "source": [
    "%pip install mediapipe==0.10.11"
   ]
  },
  {
   "cell_type": "code",
   "execution_count": 2,
   "metadata": {},
   "outputs": [
    {
     "name": "stdout",
     "output_type": "stream",
     "text": [
      "Requirement already satisfied: ultralytics in c:\\users\\user\\appdata\\local\\packages\\pythonsoftwarefoundation.python.3.11_qbz5n2kfra8p0\\localcache\\local-packages\\python311\\site-packages (8.3.11)\n",
      "Requirement already satisfied: numpy>=1.23.0 in c:\\users\\user\\appdata\\local\\packages\\pythonsoftwarefoundation.python.3.11_qbz5n2kfra8p0\\localcache\\local-packages\\python311\\site-packages (from ultralytics) (1.26.3)\n",
      "Requirement already satisfied: matplotlib>=3.3.0 in c:\\users\\user\\appdata\\local\\packages\\pythonsoftwarefoundation.python.3.11_qbz5n2kfra8p0\\localcache\\local-packages\\python311\\site-packages (from ultralytics) (3.9.2)\n",
      "Requirement already satisfied: opencv-python>=4.6.0 in c:\\users\\user\\appdata\\local\\packages\\pythonsoftwarefoundation.python.3.11_qbz5n2kfra8p0\\localcache\\local-packages\\python311\\site-packages (from ultralytics) (4.10.0.84)\n",
      "Requirement already satisfied: pillow>=7.1.2 in c:\\users\\user\\appdata\\local\\packages\\pythonsoftwarefoundation.python.3.11_qbz5n2kfra8p0\\localcache\\local-packages\\python311\\site-packages (from ultralytics) (10.2.0)\n",
      "Requirement already satisfied: pyyaml>=5.3.1 in c:\\users\\user\\appdata\\local\\packages\\pythonsoftwarefoundation.python.3.11_qbz5n2kfra8p0\\localcache\\local-packages\\python311\\site-packages (from ultralytics) (6.0.2)\n",
      "Requirement already satisfied: requests>=2.23.0 in c:\\users\\user\\appdata\\local\\packages\\pythonsoftwarefoundation.python.3.11_qbz5n2kfra8p0\\localcache\\local-packages\\python311\\site-packages (from ultralytics) (2.32.3)\n",
      "Requirement already satisfied: scipy>=1.4.1 in c:\\users\\user\\appdata\\local\\packages\\pythonsoftwarefoundation.python.3.11_qbz5n2kfra8p0\\localcache\\local-packages\\python311\\site-packages (from ultralytics) (1.14.1)\n",
      "Requirement already satisfied: torch>=1.8.0 in c:\\users\\user\\appdata\\local\\packages\\pythonsoftwarefoundation.python.3.11_qbz5n2kfra8p0\\localcache\\local-packages\\python311\\site-packages (from ultralytics) (2.4.1+cu124)\n",
      "Requirement already satisfied: torchvision>=0.9.0 in c:\\users\\user\\appdata\\local\\packages\\pythonsoftwarefoundation.python.3.11_qbz5n2kfra8p0\\localcache\\local-packages\\python311\\site-packages (from ultralytics) (0.19.1+cu124)\n",
      "Requirement already satisfied: tqdm>=4.64.0 in c:\\users\\user\\appdata\\local\\packages\\pythonsoftwarefoundation.python.3.11_qbz5n2kfra8p0\\localcache\\local-packages\\python311\\site-packages (from ultralytics) (4.66.5)\n",
      "Requirement already satisfied: psutil in c:\\users\\user\\appdata\\local\\packages\\pythonsoftwarefoundation.python.3.11_qbz5n2kfra8p0\\localcache\\local-packages\\python311\\site-packages (from ultralytics) (6.0.0)\n",
      "Requirement already satisfied: py-cpuinfo in c:\\users\\user\\appdata\\local\\packages\\pythonsoftwarefoundation.python.3.11_qbz5n2kfra8p0\\localcache\\local-packages\\python311\\site-packages (from ultralytics) (9.0.0)\n",
      "Requirement already satisfied: pandas>=1.1.4 in c:\\users\\user\\appdata\\local\\packages\\pythonsoftwarefoundation.python.3.11_qbz5n2kfra8p0\\localcache\\local-packages\\python311\\site-packages (from ultralytics) (2.2.3)\n",
      "Requirement already satisfied: seaborn>=0.11.0 in c:\\users\\user\\appdata\\local\\packages\\pythonsoftwarefoundation.python.3.11_qbz5n2kfra8p0\\localcache\\local-packages\\python311\\site-packages (from ultralytics) (0.13.2)\n",
      "Requirement already satisfied: ultralytics-thop>=2.0.0 in c:\\users\\user\\appdata\\local\\packages\\pythonsoftwarefoundation.python.3.11_qbz5n2kfra8p0\\localcache\\local-packages\\python311\\site-packages (from ultralytics) (2.0.9)\n",
      "Requirement already satisfied: contourpy>=1.0.1 in c:\\users\\user\\appdata\\local\\packages\\pythonsoftwarefoundation.python.3.11_qbz5n2kfra8p0\\localcache\\local-packages\\python311\\site-packages (from matplotlib>=3.3.0->ultralytics) (1.3.0)\n",
      "Requirement already satisfied: cycler>=0.10 in c:\\users\\user\\appdata\\local\\packages\\pythonsoftwarefoundation.python.3.11_qbz5n2kfra8p0\\localcache\\local-packages\\python311\\site-packages (from matplotlib>=3.3.0->ultralytics) (0.12.1)\n",
      "Requirement already satisfied: fonttools>=4.22.0 in c:\\users\\user\\appdata\\local\\packages\\pythonsoftwarefoundation.python.3.11_qbz5n2kfra8p0\\localcache\\local-packages\\python311\\site-packages (from matplotlib>=3.3.0->ultralytics) (4.54.1)\n",
      "Requirement already satisfied: kiwisolver>=1.3.1 in c:\\users\\user\\appdata\\local\\packages\\pythonsoftwarefoundation.python.3.11_qbz5n2kfra8p0\\localcache\\local-packages\\python311\\site-packages (from matplotlib>=3.3.0->ultralytics) (1.4.7)\n",
      "Requirement already satisfied: packaging>=20.0 in c:\\users\\user\\appdata\\local\\packages\\pythonsoftwarefoundation.python.3.11_qbz5n2kfra8p0\\localcache\\local-packages\\python311\\site-packages (from matplotlib>=3.3.0->ultralytics) (24.1)\n",
      "Requirement already satisfied: pyparsing>=2.3.1 in c:\\users\\user\\appdata\\local\\packages\\pythonsoftwarefoundation.python.3.11_qbz5n2kfra8p0\\localcache\\local-packages\\python311\\site-packages (from matplotlib>=3.3.0->ultralytics) (3.1.4)\n",
      "Requirement already satisfied: python-dateutil>=2.7 in c:\\users\\user\\appdata\\local\\packages\\pythonsoftwarefoundation.python.3.11_qbz5n2kfra8p0\\localcache\\local-packages\\python311\\site-packages (from matplotlib>=3.3.0->ultralytics) (2.9.0.post0)\n",
      "Requirement already satisfied: pytz>=2020.1 in c:\\users\\user\\appdata\\local\\packages\\pythonsoftwarefoundation.python.3.11_qbz5n2kfra8p0\\localcache\\local-packages\\python311\\site-packages (from pandas>=1.1.4->ultralytics) (2024.2)\n",
      "Requirement already satisfied: tzdata>=2022.7 in c:\\users\\user\\appdata\\local\\packages\\pythonsoftwarefoundation.python.3.11_qbz5n2kfra8p0\\localcache\\local-packages\\python311\\site-packages (from pandas>=1.1.4->ultralytics) (2024.2)\n",
      "Requirement already satisfied: charset-normalizer<4,>=2 in c:\\users\\user\\appdata\\local\\packages\\pythonsoftwarefoundation.python.3.11_qbz5n2kfra8p0\\localcache\\local-packages\\python311\\site-packages (from requests>=2.23.0->ultralytics) (3.4.0)\n",
      "Requirement already satisfied: idna<4,>=2.5 in c:\\users\\user\\appdata\\local\\packages\\pythonsoftwarefoundation.python.3.11_qbz5n2kfra8p0\\localcache\\local-packages\\python311\\site-packages (from requests>=2.23.0->ultralytics) (3.10)\n",
      "Requirement already satisfied: urllib3<3,>=1.21.1 in c:\\users\\user\\appdata\\local\\packages\\pythonsoftwarefoundation.python.3.11_qbz5n2kfra8p0\\localcache\\local-packages\\python311\\site-packages (from requests>=2.23.0->ultralytics) (2.2.3)\n",
      "Requirement already satisfied: certifi>=2017.4.17 in c:\\users\\user\\appdata\\local\\packages\\pythonsoftwarefoundation.python.3.11_qbz5n2kfra8p0\\localcache\\local-packages\\python311\\site-packages (from requests>=2.23.0->ultralytics) (2024.8.30)\n",
      "Requirement already satisfied: filelock in c:\\users\\user\\appdata\\local\\packages\\pythonsoftwarefoundation.python.3.11_qbz5n2kfra8p0\\localcache\\local-packages\\python311\\site-packages (from torch>=1.8.0->ultralytics) (3.13.1)\n",
      "Requirement already satisfied: typing-extensions>=4.8.0 in c:\\users\\user\\appdata\\local\\packages\\pythonsoftwarefoundation.python.3.11_qbz5n2kfra8p0\\localcache\\local-packages\\python311\\site-packages (from torch>=1.8.0->ultralytics) (4.12.2)\n",
      "Requirement already satisfied: sympy in c:\\users\\user\\appdata\\local\\packages\\pythonsoftwarefoundation.python.3.11_qbz5n2kfra8p0\\localcache\\local-packages\\python311\\site-packages (from torch>=1.8.0->ultralytics) (1.12)\n",
      "Requirement already satisfied: networkx in c:\\users\\user\\appdata\\local\\packages\\pythonsoftwarefoundation.python.3.11_qbz5n2kfra8p0\\localcache\\local-packages\\python311\\site-packages (from torch>=1.8.0->ultralytics) (3.2.1)\n",
      "Requirement already satisfied: jinja2 in c:\\users\\user\\appdata\\local\\packages\\pythonsoftwarefoundation.python.3.11_qbz5n2kfra8p0\\localcache\\local-packages\\python311\\site-packages (from torch>=1.8.0->ultralytics) (3.1.3)\n",
      "Requirement already satisfied: fsspec in c:\\users\\user\\appdata\\local\\packages\\pythonsoftwarefoundation.python.3.11_qbz5n2kfra8p0\\localcache\\local-packages\\python311\\site-packages (from torch>=1.8.0->ultralytics) (2024.2.0)\n",
      "Requirement already satisfied: colorama in c:\\users\\user\\appdata\\local\\packages\\pythonsoftwarefoundation.python.3.11_qbz5n2kfra8p0\\localcache\\local-packages\\python311\\site-packages (from tqdm>=4.64.0->ultralytics) (0.4.6)\n",
      "Requirement already satisfied: six>=1.5 in c:\\users\\user\\appdata\\local\\packages\\pythonsoftwarefoundation.python.3.11_qbz5n2kfra8p0\\localcache\\local-packages\\python311\\site-packages (from python-dateutil>=2.7->matplotlib>=3.3.0->ultralytics) (1.16.0)\n",
      "Requirement already satisfied: MarkupSafe>=2.0 in c:\\users\\user\\appdata\\local\\packages\\pythonsoftwarefoundation.python.3.11_qbz5n2kfra8p0\\localcache\\local-packages\\python311\\site-packages (from jinja2->torch>=1.8.0->ultralytics) (2.1.5)\n",
      "Requirement already satisfied: mpmath>=0.19 in c:\\users\\user\\appdata\\local\\packages\\pythonsoftwarefoundation.python.3.11_qbz5n2kfra8p0\\localcache\\local-packages\\python311\\site-packages (from sympy->torch>=1.8.0->ultralytics) (1.3.0)\n",
      "Note: you may need to restart the kernel to use updated packages.\n"
     ]
    }
   ],
   "source": [
    "%pip install ultralytics"
   ]
  },
  {
   "cell_type": "code",
   "execution_count": 3,
   "metadata": {},
   "outputs": [],
   "source": [
    "import cv2\n",
    "import mediapipe as mp\n",
    "import numpy as np\n",
    "import os\n",
    "import random\n",
    "import gc\n",
    "import glob\n",
    "import time\n",
    "import torch\n",
    "import torch.nn as nn\n",
    "import torch.optim as optim\n",
    "import torch.nn.functional as F\n",
    "import matplotlib.pyplot as plt\n",
    "from ultralytics import YOLO\n",
    "from IPython.display import Image, clear_output\n",
    "from torch.cuda import memory_allocated, empty_cache\n",
    "from torch.optim import Adam\n",
    "from torch.utils.data import random_split\n",
    "from torch.utils.data import Dataset, DataLoader\n",
    "from tqdm import tqdm\n",
    "\n",
    "%matplotlib inline"
   ]
  },
  {
   "cell_type": "code",
   "execution_count": 4,
   "metadata": {},
   "outputs": [
    {
     "name": "stdout",
     "output_type": "stream",
     "text": [
      "E:\\project\\New_Data\\Image\n",
      "67840\n",
      "67840 67840\n"
     ]
    }
   ],
   "source": [
    "data_root = r'E:\\project\\New_Data'\n",
    "file_root = rf'{data_root}\\Image'\n",
    "project_name = 'fall_detection'\n",
    "print(file_root)\n",
    "train_root = rf'{data_root}\\train'\n",
    "valid_root = rf'{data_root}\\valid'\n",
    "test_root = rf'{data_root}\\test'\n",
    "cls_list = ['Normal', 'Fall']\n",
    "cls_filename_list = ['N', 'BY', 'FY', 'SY']\n",
    "\n",
    "image_root = f'{train_root}\\\\images'\n",
    "label_root = f'{train_root}\\\\labels'\n",
    "\n",
    "image_list = sorted(glob.glob(f'{image_root}\\\\*.jpg'))\n",
    "print(len(image_list))\n",
    "label_list = [x.replace('images', 'labels').replace('JPG', 'jpg').replace('jpg', 'txt') for x in image_list]\n",
    "print(len(image_list), len(label_list))"
   ]
  },
  {
   "cell_type": "code",
   "execution_count": 5,
   "metadata": {},
   "outputs": [],
   "source": [
    "def image_sampling(image_root, label_root, sample_num):\n",
    "    image_cls_dict = {'N': [], 'BY': [], 'FY': [], 'SY': []}\n",
    "    image_names_dict = {'N': [], 'BY': [], 'FY': [], 'SY': []}\n",
    "    image_sampled_dict = {'N': [], 'BY': [], 'FY': [], 'SY': []}\n",
    "    label_sampled_dict = {'N': [], 'BY': [], 'FY': [], 'SY': []}\n",
    "    for cls in cls_filename_list:\n",
    "        image_cls_dict[cls] = glob.glob(f'{image_root}\\\\*_{cls}_*')\n",
    "        image_names_dict[cls] = list(set([x.split('\\\\')[-1].split('_')[0] for x in image_cls_dict[cls]]))\n",
    "        if cls == 'N':\n",
    "            div = 2\n",
    "        else:\n",
    "            div = 6\n",
    "        image_names_dict[cls] = random.sample(image_names_dict[cls], (sample_num // 80) // div)\n",
    "        for i in tqdm(image_names_dict[cls]):\n",
    "            image_sampled_dict[cls].extend(sorted(glob.glob(f'{image_root}\\\\{i}_*')))\n",
    "            label_sampled_dict[cls].extend(sorted(glob.glob(f'{label_root}\\\\{i}_*')))\n",
    "    print([image_sampled_dict[cls][:10] for cls in cls_filename_list])\n",
    "    print([label_sampled_dict[cls][:10] for cls in cls_filename_list])\n",
    "    print([len(image_sampled_dict[cls]) for cls in cls_filename_list])\n",
    "    return image_sampled_dict, label_sampled_dict"
   ]
  },
  {
   "cell_type": "code",
   "execution_count": 6,
   "metadata": {},
   "outputs": [
    {
     "name": "stderr",
     "output_type": "stream",
     "text": [
      "100%|██████████| 75/75 [00:11<00:00,  6.76it/s]\n",
      "100%|██████████| 25/25 [00:03<00:00,  6.82it/s]\n",
      "100%|██████████| 25/25 [00:03<00:00,  6.79it/s]\n",
      "100%|██████████| 25/25 [00:03<00:00,  6.83it/s]"
     ]
    },
    {
     "name": "stdout",
     "output_type": "stream",
     "text": [
      "[['E:\\\\project\\\\New_Data\\\\train\\\\images\\\\02502_H_A_N_C1_I001.jpg', 'E:\\\\project\\\\New_Data\\\\train\\\\images\\\\02502_H_A_N_C1_I002.jpg', 'E:\\\\project\\\\New_Data\\\\train\\\\images\\\\02502_H_A_N_C1_I003.jpg', 'E:\\\\project\\\\New_Data\\\\train\\\\images\\\\02502_H_A_N_C1_I004.jpg', 'E:\\\\project\\\\New_Data\\\\train\\\\images\\\\02502_H_A_N_C1_I005.jpg', 'E:\\\\project\\\\New_Data\\\\train\\\\images\\\\02502_H_A_N_C1_I006.jpg', 'E:\\\\project\\\\New_Data\\\\train\\\\images\\\\02502_H_A_N_C1_I007.jpg', 'E:\\\\project\\\\New_Data\\\\train\\\\images\\\\02502_H_A_N_C1_I008.jpg', 'E:\\\\project\\\\New_Data\\\\train\\\\images\\\\02502_H_A_N_C1_I009.jpg', 'E:\\\\project\\\\New_Data\\\\train\\\\images\\\\02502_H_A_N_C1_I010.jpg'], ['E:\\\\project\\\\New_Data\\\\train\\\\images\\\\01788_Y_E_BY_C1_I001.jpg', 'E:\\\\project\\\\New_Data\\\\train\\\\images\\\\01788_Y_E_BY_C1_I002.jpg', 'E:\\\\project\\\\New_Data\\\\train\\\\images\\\\01788_Y_E_BY_C1_I003.jpg', 'E:\\\\project\\\\New_Data\\\\train\\\\images\\\\01788_Y_E_BY_C1_I004.jpg', 'E:\\\\project\\\\New_Data\\\\train\\\\images\\\\01788_Y_E_BY_C1_I005.jpg', 'E:\\\\project\\\\New_Data\\\\train\\\\images\\\\01788_Y_E_BY_C1_I006.jpg', 'E:\\\\project\\\\New_Data\\\\train\\\\images\\\\01788_Y_E_BY_C1_I007.jpg', 'E:\\\\project\\\\New_Data\\\\train\\\\images\\\\01788_Y_E_BY_C1_I008.jpg', 'E:\\\\project\\\\New_Data\\\\train\\\\images\\\\01788_Y_E_BY_C1_I009.jpg', 'E:\\\\project\\\\New_Data\\\\train\\\\images\\\\01788_Y_E_BY_C1_I010.jpg'], ['E:\\\\project\\\\New_Data\\\\train\\\\images\\\\01804_Y_A_FY_C1_I001.jpg', 'E:\\\\project\\\\New_Data\\\\train\\\\images\\\\01804_Y_A_FY_C1_I002.jpg', 'E:\\\\project\\\\New_Data\\\\train\\\\images\\\\01804_Y_A_FY_C1_I003.jpg', 'E:\\\\project\\\\New_Data\\\\train\\\\images\\\\01804_Y_A_FY_C1_I004.jpg', 'E:\\\\project\\\\New_Data\\\\train\\\\images\\\\01804_Y_A_FY_C1_I005.jpg', 'E:\\\\project\\\\New_Data\\\\train\\\\images\\\\01804_Y_A_FY_C1_I006.jpg', 'E:\\\\project\\\\New_Data\\\\train\\\\images\\\\01804_Y_A_FY_C1_I007.jpg', 'E:\\\\project\\\\New_Data\\\\train\\\\images\\\\01804_Y_A_FY_C1_I008.jpg', 'E:\\\\project\\\\New_Data\\\\train\\\\images\\\\01804_Y_A_FY_C1_I009.jpg', 'E:\\\\project\\\\New_Data\\\\train\\\\images\\\\01804_Y_A_FY_C1_I010.jpg'], ['E:\\\\project\\\\New_Data\\\\train\\\\images\\\\01531_O_E_SY_C1_I001.jpg', 'E:\\\\project\\\\New_Data\\\\train\\\\images\\\\01531_O_E_SY_C1_I002.jpg', 'E:\\\\project\\\\New_Data\\\\train\\\\images\\\\01531_O_E_SY_C1_I003.jpg', 'E:\\\\project\\\\New_Data\\\\train\\\\images\\\\01531_O_E_SY_C1_I004.jpg', 'E:\\\\project\\\\New_Data\\\\train\\\\images\\\\01531_O_E_SY_C1_I005.jpg', 'E:\\\\project\\\\New_Data\\\\train\\\\images\\\\01531_O_E_SY_C1_I006.jpg', 'E:\\\\project\\\\New_Data\\\\train\\\\images\\\\01531_O_E_SY_C1_I007.jpg', 'E:\\\\project\\\\New_Data\\\\train\\\\images\\\\01531_O_E_SY_C1_I008.jpg', 'E:\\\\project\\\\New_Data\\\\train\\\\images\\\\01531_O_E_SY_C1_I009.jpg', 'E:\\\\project\\\\New_Data\\\\train\\\\images\\\\01531_O_E_SY_C1_I010.jpg']]\n",
      "[['E:\\\\project\\\\New_Data\\\\train\\\\labels\\\\02502_H_A_N_C1_I001.txt', 'E:\\\\project\\\\New_Data\\\\train\\\\labels\\\\02502_H_A_N_C1_I002.txt', 'E:\\\\project\\\\New_Data\\\\train\\\\labels\\\\02502_H_A_N_C1_I003.txt', 'E:\\\\project\\\\New_Data\\\\train\\\\labels\\\\02502_H_A_N_C1_I004.txt', 'E:\\\\project\\\\New_Data\\\\train\\\\labels\\\\02502_H_A_N_C1_I005.txt', 'E:\\\\project\\\\New_Data\\\\train\\\\labels\\\\02502_H_A_N_C1_I006.txt', 'E:\\\\project\\\\New_Data\\\\train\\\\labels\\\\02502_H_A_N_C1_I007.txt', 'E:\\\\project\\\\New_Data\\\\train\\\\labels\\\\02502_H_A_N_C1_I008.txt', 'E:\\\\project\\\\New_Data\\\\train\\\\labels\\\\02502_H_A_N_C1_I009.txt', 'E:\\\\project\\\\New_Data\\\\train\\\\labels\\\\02502_H_A_N_C1_I010.txt'], ['E:\\\\project\\\\New_Data\\\\train\\\\labels\\\\01788_Y_E_BY_C1_I001.txt', 'E:\\\\project\\\\New_Data\\\\train\\\\labels\\\\01788_Y_E_BY_C1_I002.txt', 'E:\\\\project\\\\New_Data\\\\train\\\\labels\\\\01788_Y_E_BY_C1_I003.txt', 'E:\\\\project\\\\New_Data\\\\train\\\\labels\\\\01788_Y_E_BY_C1_I004.txt', 'E:\\\\project\\\\New_Data\\\\train\\\\labels\\\\01788_Y_E_BY_C1_I005.txt', 'E:\\\\project\\\\New_Data\\\\train\\\\labels\\\\01788_Y_E_BY_C1_I006.txt', 'E:\\\\project\\\\New_Data\\\\train\\\\labels\\\\01788_Y_E_BY_C1_I007.txt', 'E:\\\\project\\\\New_Data\\\\train\\\\labels\\\\01788_Y_E_BY_C1_I008.txt', 'E:\\\\project\\\\New_Data\\\\train\\\\labels\\\\01788_Y_E_BY_C1_I009.txt', 'E:\\\\project\\\\New_Data\\\\train\\\\labels\\\\01788_Y_E_BY_C1_I010.txt'], ['E:\\\\project\\\\New_Data\\\\train\\\\labels\\\\01804_Y_A_FY_C1_I001.txt', 'E:\\\\project\\\\New_Data\\\\train\\\\labels\\\\01804_Y_A_FY_C1_I002.txt', 'E:\\\\project\\\\New_Data\\\\train\\\\labels\\\\01804_Y_A_FY_C1_I003.txt', 'E:\\\\project\\\\New_Data\\\\train\\\\labels\\\\01804_Y_A_FY_C1_I004.txt', 'E:\\\\project\\\\New_Data\\\\train\\\\labels\\\\01804_Y_A_FY_C1_I005.txt', 'E:\\\\project\\\\New_Data\\\\train\\\\labels\\\\01804_Y_A_FY_C1_I006.txt', 'E:\\\\project\\\\New_Data\\\\train\\\\labels\\\\01804_Y_A_FY_C1_I007.txt', 'E:\\\\project\\\\New_Data\\\\train\\\\labels\\\\01804_Y_A_FY_C1_I008.txt', 'E:\\\\project\\\\New_Data\\\\train\\\\labels\\\\01804_Y_A_FY_C1_I009.txt', 'E:\\\\project\\\\New_Data\\\\train\\\\labels\\\\01804_Y_A_FY_C1_I010.txt'], ['E:\\\\project\\\\New_Data\\\\train\\\\labels\\\\01531_O_E_SY_C1_I001.txt', 'E:\\\\project\\\\New_Data\\\\train\\\\labels\\\\01531_O_E_SY_C1_I002.txt', 'E:\\\\project\\\\New_Data\\\\train\\\\labels\\\\01531_O_E_SY_C1_I003.txt', 'E:\\\\project\\\\New_Data\\\\train\\\\labels\\\\01531_O_E_SY_C1_I004.txt', 'E:\\\\project\\\\New_Data\\\\train\\\\labels\\\\01531_O_E_SY_C1_I005.txt', 'E:\\\\project\\\\New_Data\\\\train\\\\labels\\\\01531_O_E_SY_C1_I006.txt', 'E:\\\\project\\\\New_Data\\\\train\\\\labels\\\\01531_O_E_SY_C1_I007.txt', 'E:\\\\project\\\\New_Data\\\\train\\\\labels\\\\01531_O_E_SY_C1_I008.txt', 'E:\\\\project\\\\New_Data\\\\train\\\\labels\\\\01531_O_E_SY_C1_I009.txt', 'E:\\\\project\\\\New_Data\\\\train\\\\labels\\\\01531_O_E_SY_C1_I010.txt']]\n",
      "[6000, 2000, 2000, 2000]\n"
     ]
    },
    {
     "name": "stderr",
     "output_type": "stream",
     "text": [
      "\n"
     ]
    },
    {
     "data": {
      "text/plain": [
       "6000"
      ]
     },
     "execution_count": 6,
     "metadata": {},
     "output_type": "execute_result"
    }
   ],
   "source": [
    "image_dict, label_dict = image_sampling(image_root, label_root, 12000)\n",
    "len(label_dict['N'])"
   ]
  },
  {
   "cell_type": "code",
   "execution_count": 7,
   "metadata": {},
   "outputs": [],
   "source": [
    "BATCH_SIZE = 8\n",
    "EPOCH = 2\n",
    "NUM_LAYERS = 1\n",
    "n_CONFIDENCE = 0.3\n",
    "\n",
    "\n",
    "mp_pose = mp.solutions.pose\n",
    "pose = mp_pose.Pose(static_image_mode=True, model_complexity=1, enable_segmentation=False, min_detection_confidence=n_CONFIDENCE)\n",
    "attention_dot = [n for n in range(29)]\n",
    "\n",
    "\n",
    "draw_line = [[11, 13], [13, 15], [15, 21], [15, 19], [15, 17], [17, 19], [12, 14], [14, 16],\n",
    "             [16, 22], [16, 20], [16, 18], [18, 20], [23, 25], [25, 27], [24, 26], [26, 28],\n",
    "             [11, 12], [11, 23], [23, 24], [12, 24], [9, 10], [0, 5], [0, 2], [5, 8], [2, 7]]"
   ]
  },
  {
   "cell_type": "code",
   "execution_count": 8,
   "metadata": {},
   "outputs": [],
   "source": [
    "def get_pose(image_list: list, label_list: list, label_type: str, attention_dot: list, draw_line: list, isSample=False, sample_size=0, pose=pose):\n",
    "    if isSample:\n",
    "        print('sample mod')\n",
    "        print(len(image_list))\n",
    "        plt.figure(figsize=(8, 4*sample_size))\n",
    "    frame_length = 10 # LSTM 모델에 넣을 frame 수\n",
    "    xy_list_list = []\n",
    "    omission_cnt = 0\n",
    "    # pose = mp_pose.Pose(static_image_mode=True, model_complexity=1, enable_segmentation=False, min_detection_confidence=n_CONFIDENCE)\n",
    "    for i, (img_src, lbl) in enumerate((zip(image_list, label_list))):\n",
    "        if label_type == 'yolo':\n",
    "            with open(lbl, 'r', encoding='utf-8') as f:\n",
    "                label_str = f.read()\n",
    "                bbox = list(map(float, label_str.split(' ')[1:]))\n",
    "\n",
    "            bbox = [int(x * 640) for x in bbox]\n",
    "            bbox = [\n",
    "                max(int(bbox[0] - bbox[2] / 2 - 30), 0),\n",
    "                max(int(bbox[1] - bbox[3] / 2 - 30), 0),\n",
    "                min(int(bbox[0] + bbox[2] / 2 + 30), 640),\n",
    "                min(int(bbox[1] + bbox[3] / 2 + 30), 640),\n",
    "            ]\n",
    "            img = cv2.imread(img_src)\n",
    "            img = cv2.cvtColor(img, cv2.COLOR_BGR2RGB)\n",
    "            if isSample:\n",
    "                bbox_img = cv2.rectangle(img, (bbox[0], bbox[1]), (bbox[2], bbox[3]), (0, 0, 0), 2)\n",
    "                cv2.putText(bbox_img, img_src.split('\\\\')[-1], (5, 30), cv2.FONT_HERSHEY_DUPLEX, 0.6, (255, 255, 255), lineType=cv2.LINE_AA)\n",
    "                plt.subplot(sample_size, 2, (2*i+1))\n",
    "                plt.imshow(bbox_img)\n",
    "\n",
    "        \n",
    "        \"\"\" Yolov5 바운딩 박스 좌표 안에서 mediapipe Pose 추출\"\"\"\n",
    "\n",
    "        # img = cv2.rectangle(img, start_point, end_point, (0, 0, 255), 2) # 바운딩 박스 그리기 : 데이터 추출 확인용\n",
    "        c_img = img[bbox[1]:bbox[3], bbox[0]:bbox[2]] # 바운딩 박스 좌표\n",
    "        results = pose.process(c_img) # Yolov5 바운딩 박스 좌표 안에서 'mp_pose' 좌표\n",
    "\n",
    "        if not results.pose_landmarks: continue\n",
    "        idx = 0\n",
    "        draw_line_dic = {}\n",
    "        xy_list = []\n",
    "        # 33 반복문 진행 : 33개 중 18개의 dot\n",
    "        for x_and_y in results.pose_landmarks.landmark:\n",
    "            if idx in attention_dot:\n",
    "                xy_list.append(x_and_y.x)\n",
    "                xy_list.append(x_and_y.y)\n",
    "\n",
    "                x, y = int(x_and_y.x * (bbox[2] - bbox[0])), int(x_and_y.y * (bbox[3] - bbox[1]))\n",
    "                draw_line_dic[idx] = [x, y]\n",
    "            idx += 1\n",
    "\n",
    "        if len(xy_list) != len(attention_dot) * 2:\n",
    "            print('Error : attention_dot 데이터 오류')\n",
    "\n",
    "        xy_list_list.append(xy_list)\n",
    "\n",
    "        \"\"\"mediapipe line 그리기 부분 : 데이터 추출(dot) 확인용\"\"\"\n",
    "        if isSample:\n",
    "            for line in draw_line:\n",
    "                x1, y1 = draw_line_dic[line[0]][0], draw_line_dic[line[0]][1]\n",
    "                x2, y2 = draw_line_dic[line[1]][0], draw_line_dic[line[1]][1]\n",
    "                c_img = cv2.line(c_img, (x1, y1), (x2, y2), (0, 255, 0), 4)\n",
    "            plt.subplot(sample_size, 2, (2*i+2))\n",
    "            plt.imshow(c_img)\n",
    "        \n",
    "    # 부족한 프레임 수 맞추기\n",
    "    if isSample:\n",
    "        if len(xy_list_list) < len(image_list) // 2:\n",
    "            return False\n",
    "        elif len(xy_list_list) < len(image_list):\n",
    "            f_ln = len(image_list) - len(xy_list)\n",
    "            for _ in range(f_ln):\n",
    "                xy_list_list.append(xy_list_list[-1])\n",
    "    else:\n",
    "        if len(xy_list_list) < 5:\n",
    "            return False, 5 - len(xy_list_list)\n",
    "        elif len(xy_list_list) < 10:\n",
    "            f_ln = frame_length - len(xy_list)\n",
    "            for _ in range(f_ln):\n",
    "                xy_list_list.append(xy_list_list[-1])\n",
    "                omission_cnt = f_ln\n",
    "    \n",
    "    if isSample:\n",
    "        plt.show()\n",
    "    return xy_list_list, omission_cnt"
   ]
  },
  {
   "cell_type": "code",
   "execution_count": 9,
   "metadata": {},
   "outputs": [],
   "source": [
    "def get_pose_sample(image_dict: dict, label_dict: dict, label_type: str, attention_dot: list, draw_line: list, sample_size: int, sample_start=0):\n",
    "    image_pose_sample = []\n",
    "    label_pose_sample = []\n",
    "    for cls in cls_filename_list:\n",
    "        div = 2 if cls == 'N' else 6\n",
    "        image_pose_sample.extend(image_dict[cls][sample_start:(sample_start+sample_size//div)])\n",
    "        label_pose_sample.extend(label_dict[cls][sample_start:(sample_start+sample_size//div)])\n",
    "    print(len(image_pose_sample), 'asdf')\n",
    "    pose = mp_pose.Pose(static_image_mode=True, model_complexity=1, enable_segmentation=False, min_detection_confidence=n_CONFIDENCE)\n",
    "    xy_sample = get_pose(image_pose_sample, label_pose_sample, label_type, attention_dot, draw_line, True, sample_size, pose)"
   ]
  },
  {
   "cell_type": "code",
   "execution_count": 33,
   "metadata": {},
   "outputs": [
    {
     "ename": "ZeroDivisionError",
     "evalue": "division by zero",
     "output_type": "error",
     "traceback": [
      "\u001b[1;31m---------------------------------------------------------------------------\u001b[0m",
      "\u001b[1;31mZeroDivisionError\u001b[0m                         Traceback (most recent call last)",
      "Cell \u001b[1;32mIn[33], line 1\u001b[0m\n\u001b[1;32m----> 1\u001b[0m \u001b[38;5;241;43m1\u001b[39;49m\u001b[38;5;241;43m/\u001b[39;49m\u001b[38;5;241;43m0\u001b[39;49m\n\u001b[0;32m      2\u001b[0m a \u001b[38;5;241m=\u001b[39m get_pose_sample(image_dict, label_dict, \u001b[38;5;124m'\u001b[39m\u001b[38;5;124myolo\u001b[39m\u001b[38;5;124m'\u001b[39m, attention_dot, draw_line, sample_size\u001b[38;5;241m=\u001b[39m\u001b[38;5;241m40\u001b[39m)\n",
      "\u001b[1;31mZeroDivisionError\u001b[0m: division by zero"
     ]
    }
   ],
   "source": [
    "1/0\n",
    "a = get_pose_sample(image_dict, label_dict, 'yolo', attention_dot, draw_line, sample_size=40)\n"
   ]
  },
  {
   "cell_type": "code",
   "execution_count": 10,
   "metadata": {},
   "outputs": [
    {
     "name": "stderr",
     "output_type": "stream",
     "text": [
      "100%|██████████| 6000/6000 [00:00<00:00, 857059.02it/s]\n",
      "100%|██████████| 2000/2000 [00:00<00:00, 999714.93it/s]\n",
      "100%|██████████| 2000/2000 [00:00<00:00, 1000310.99it/s]\n",
      "100%|██████████| 2000/2000 [00:00<00:00, 666556.06it/s]"
     ]
    },
    {
     "name": "stdout",
     "output_type": "stream",
     "text": [
      "12000\n",
      "[['E:\\\\project\\\\New_Data\\\\train\\\\images\\\\02502_H_A_N_C1_I001.jpg', 'E:\\\\project\\\\New_Data\\\\train\\\\images\\\\02502_H_A_N_C1_I002.jpg', 'E:\\\\project\\\\New_Data\\\\train\\\\images\\\\02502_H_A_N_C1_I003.jpg', 'E:\\\\project\\\\New_Data\\\\train\\\\images\\\\02502_H_A_N_C1_I004.jpg', 'E:\\\\project\\\\New_Data\\\\train\\\\images\\\\02502_H_A_N_C1_I005.jpg', 'E:\\\\project\\\\New_Data\\\\train\\\\images\\\\02502_H_A_N_C1_I006.jpg', 'E:\\\\project\\\\New_Data\\\\train\\\\images\\\\02502_H_A_N_C1_I007.jpg', 'E:\\\\project\\\\New_Data\\\\train\\\\images\\\\02502_H_A_N_C1_I008.jpg', 'E:\\\\project\\\\New_Data\\\\train\\\\images\\\\02502_H_A_N_C1_I009.jpg', 'E:\\\\project\\\\New_Data\\\\train\\\\images\\\\02502_H_A_N_C1_I010.jpg'], ['E:\\\\project\\\\New_Data\\\\train\\\\images\\\\02502_H_A_N_C2_I001.jpg', 'E:\\\\project\\\\New_Data\\\\train\\\\images\\\\02502_H_A_N_C2_I002.jpg', 'E:\\\\project\\\\New_Data\\\\train\\\\images\\\\02502_H_A_N_C2_I003.jpg', 'E:\\\\project\\\\New_Data\\\\train\\\\images\\\\02502_H_A_N_C2_I004.jpg', 'E:\\\\project\\\\New_Data\\\\train\\\\images\\\\02502_H_A_N_C2_I005.jpg', 'E:\\\\project\\\\New_Data\\\\train\\\\images\\\\02502_H_A_N_C2_I006.jpg', 'E:\\\\project\\\\New_Data\\\\train\\\\images\\\\02502_H_A_N_C2_I007.jpg', 'E:\\\\project\\\\New_Data\\\\train\\\\images\\\\02502_H_A_N_C2_I008.jpg', 'E:\\\\project\\\\New_Data\\\\train\\\\images\\\\02502_H_A_N_C2_I009.jpg', 'E:\\\\project\\\\New_Data\\\\train\\\\images\\\\02502_H_A_N_C2_I010.jpg'], ['E:\\\\project\\\\New_Data\\\\train\\\\images\\\\02502_H_A_N_C3_I001.jpg', 'E:\\\\project\\\\New_Data\\\\train\\\\images\\\\02502_H_A_N_C3_I002.jpg', 'E:\\\\project\\\\New_Data\\\\train\\\\images\\\\02502_H_A_N_C3_I003.jpg', 'E:\\\\project\\\\New_Data\\\\train\\\\images\\\\02502_H_A_N_C3_I004.jpg', 'E:\\\\project\\\\New_Data\\\\train\\\\images\\\\02502_H_A_N_C3_I005.jpg', 'E:\\\\project\\\\New_Data\\\\train\\\\images\\\\02502_H_A_N_C3_I006.jpg', 'E:\\\\project\\\\New_Data\\\\train\\\\images\\\\02502_H_A_N_C3_I007.jpg', 'E:\\\\project\\\\New_Data\\\\train\\\\images\\\\02502_H_A_N_C3_I008.jpg', 'E:\\\\project\\\\New_Data\\\\train\\\\images\\\\02502_H_A_N_C3_I009.jpg', 'E:\\\\project\\\\New_Data\\\\train\\\\images\\\\02502_H_A_N_C3_I010.jpg']]\n",
      "1196\n",
      "1196\n",
      "[]\n"
     ]
    },
    {
     "name": "stderr",
     "output_type": "stream",
     "text": [
      "\n"
     ]
    }
   ],
   "source": [
    "raw_data = []\n",
    "image_pose_input = []\n",
    "label_pose_input = []\n",
    "for cls in cls_filename_list:\n",
    "    img_name = {'index': 'None', 'direction': 'None'}\n",
    "    img_bundle = []\n",
    "    label_bundle = []\n",
    "    isNewBundle = 0\n",
    "    for img, lbl in zip(tqdm(image_dict[cls]), label_dict[cls]):\n",
    "        # 처음 값 입력\n",
    "        if img_name['index'] != img.split('\\\\')[-1].split('_')[0]:\n",
    "            img_name['index'] = img.split('\\\\')[-1].split('_')[0]\n",
    "            isNewBundle += 1\n",
    "        if img_name['direction'] != img.split('\\\\')[-1].split('_')[-2]:\n",
    "            img_name['direction'] = img.split('\\\\')[-1].split('_')[-2]\n",
    "            isNewBundle += 1\n",
    "        if isNewBundle > 0:\n",
    "            if img_bundle != []:\n",
    "                image_pose_input.append(img_bundle)\n",
    "                label_pose_input.append(label_bundle)\n",
    "            img_bundle = []\n",
    "            label_bundle = []\n",
    "            isNewBundle = 0\n",
    "        img_bundle.append(img)\n",
    "        label_bundle.append(lbl)\n",
    "\n",
    "\n",
    "print(len(image_dict['N'])+len(image_dict['BY'])+len(image_dict['FY'])+len(image_dict['SY']))\n",
    "print(image_pose_input[:3])\n",
    "print(len(image_pose_input))\n",
    "print(len(label_pose_input))\n",
    "\n",
    "print(raw_data)"
   ]
  },
  {
   "cell_type": "code",
   "execution_count": 11,
   "metadata": {},
   "outputs": [],
   "source": [
    "del raw_data\n",
    "gc.collect()\n",
    "raw_data = []"
   ]
  },
  {
   "cell_type": "code",
   "execution_count": 12,
   "metadata": {},
   "outputs": [
    {
     "name": "stdout",
     "output_type": "stream",
     "text": [
      "1588\n"
     ]
    }
   ],
   "source": [
    "a = [len(i) == 10 for i in image_pose_input]\n",
    "print(a.count(True))"
   ]
  },
  {
   "cell_type": "code",
   "execution_count": 16,
   "metadata": {},
   "outputs": [
    {
     "ename": "KeyboardInterrupt",
     "evalue": "",
     "output_type": "error",
     "traceback": [
      "\u001b[1;31m---------------------------------------------------------------------------\u001b[0m",
      "\u001b[1;31mKeyboardInterrupt\u001b[0m                         Traceback (most recent call last)",
      "Cell \u001b[1;32mIn[16], line 2\u001b[0m\n\u001b[0;32m      1\u001b[0m ommision_total \u001b[38;5;241m=\u001b[39m \u001b[38;5;241m0\u001b[39m\n\u001b[1;32m----> 2\u001b[0m raw_data \u001b[38;5;241m=\u001b[39m \u001b[38;5;28;43mlist\u001b[39;49m\u001b[43m(\u001b[49m\u001b[38;5;28;43mmap\u001b[39;49m\u001b[43m(\u001b[49m\n\u001b[0;32m      3\u001b[0m \u001b[43m    \u001b[49m\u001b[38;5;28;43;01mlambda\u001b[39;49;00m\u001b[43m \u001b[49m\u001b[43mimg_list\u001b[49m\u001b[43m,\u001b[49m\u001b[43m \u001b[49m\u001b[43mlbl_list\u001b[49m\u001b[43m:\u001b[49m\u001b[43m \u001b[49m\u001b[43m{\u001b[49m\n\u001b[0;32m      4\u001b[0m \u001b[43m        \u001b[49m\u001b[38;5;124;43m'\u001b[39;49m\u001b[38;5;124;43mkey\u001b[39;49m\u001b[38;5;124;43m'\u001b[39;49m\u001b[43m:\u001b[49m\u001b[43m \u001b[49m\u001b[38;5;241;43m0\u001b[39;49m\u001b[43m \u001b[49m\u001b[38;5;28;43;01mif\u001b[39;49;00m\u001b[43m \u001b[49m\u001b[43mimg_list\u001b[49m\u001b[43m[\u001b[49m\u001b[38;5;241;43m0\u001b[39;49m\u001b[43m]\u001b[49m\u001b[38;5;241;43m.\u001b[39;49m\u001b[43msplit\u001b[49m\u001b[43m(\u001b[49m\u001b[38;5;124;43m'\u001b[39;49m\u001b[38;5;130;43;01m\\\\\u001b[39;49;00m\u001b[38;5;124;43m'\u001b[39;49m\u001b[43m)\u001b[49m\u001b[43m[\u001b[49m\u001b[38;5;241;43m-\u001b[39;49m\u001b[38;5;241;43m1\u001b[39;49m\u001b[43m]\u001b[49m\u001b[38;5;241;43m.\u001b[39;49m\u001b[43msplit\u001b[49m\u001b[43m(\u001b[49m\u001b[38;5;124;43m'\u001b[39;49m\u001b[38;5;124;43m_\u001b[39;49m\u001b[38;5;124;43m'\u001b[39;49m\u001b[43m)\u001b[49m\u001b[43m[\u001b[49m\u001b[38;5;241;43m-\u001b[39;49m\u001b[38;5;241;43m3\u001b[39;49m\u001b[43m]\u001b[49m\u001b[43m \u001b[49m\u001b[38;5;241;43m==\u001b[39;49m\u001b[43m \u001b[49m\u001b[38;5;124;43m'\u001b[39;49m\u001b[38;5;124;43mN\u001b[39;49m\u001b[38;5;124;43m'\u001b[39;49m\u001b[43m \u001b[49m\u001b[38;5;28;43;01melse\u001b[39;49;00m\u001b[43m \u001b[49m\u001b[38;5;241;43m1\u001b[39;49m\u001b[43m,\u001b[49m\n\u001b[0;32m      5\u001b[0m \u001b[43m        \u001b[49m\u001b[38;5;124;43m'\u001b[39;49m\u001b[38;5;124;43mvalue\u001b[39;49m\u001b[38;5;124;43m'\u001b[39;49m\u001b[43m:\u001b[49m\u001b[43m \u001b[49m\u001b[43mget_pose\u001b[49m\u001b[43m(\u001b[49m\u001b[43mimg_list\u001b[49m\u001b[43m,\u001b[49m\u001b[43m \u001b[49m\u001b[43mlbl_list\u001b[49m\u001b[43m,\u001b[49m\u001b[43m \u001b[49m\u001b[38;5;124;43m'\u001b[39;49m\u001b[38;5;124;43myolo\u001b[39;49m\u001b[38;5;124;43m'\u001b[39;49m\u001b[43m,\u001b[49m\u001b[43m \u001b[49m\u001b[43mattention_dot\u001b[49m\u001b[43m,\u001b[49m\u001b[43m \u001b[49m\u001b[43mdraw_line\u001b[49m\u001b[43m,\u001b[49m\u001b[43m \u001b[49m\u001b[38;5;28;43;01mFalse\u001b[39;49;00m\u001b[43m)\u001b[49m\n\u001b[0;32m      6\u001b[0m \u001b[43m        \u001b[49m\u001b[43m}\u001b[49m\u001b[43m,\u001b[49m\n\u001b[0;32m      7\u001b[0m \u001b[43m    \u001b[49m\u001b[43mimage_pose_input\u001b[49m\u001b[43m,\u001b[49m\u001b[43m \u001b[49m\u001b[43mlabel_pose_input\u001b[49m\n\u001b[0;32m      8\u001b[0m \u001b[43m    \u001b[49m\u001b[43m)\u001b[49m\u001b[43m)\u001b[49m\n",
      "Cell \u001b[1;32mIn[16], line 5\u001b[0m, in \u001b[0;36m<lambda>\u001b[1;34m(img_list, lbl_list)\u001b[0m\n\u001b[0;32m      1\u001b[0m ommision_total \u001b[38;5;241m=\u001b[39m \u001b[38;5;241m0\u001b[39m\n\u001b[0;32m      2\u001b[0m raw_data \u001b[38;5;241m=\u001b[39m \u001b[38;5;28mlist\u001b[39m(\u001b[38;5;28mmap\u001b[39m(\n\u001b[0;32m      3\u001b[0m     \u001b[38;5;28;01mlambda\u001b[39;00m img_list, lbl_list: {\n\u001b[0;32m      4\u001b[0m         \u001b[38;5;124m'\u001b[39m\u001b[38;5;124mkey\u001b[39m\u001b[38;5;124m'\u001b[39m: \u001b[38;5;241m0\u001b[39m \u001b[38;5;28;01mif\u001b[39;00m img_list[\u001b[38;5;241m0\u001b[39m]\u001b[38;5;241m.\u001b[39msplit(\u001b[38;5;124m'\u001b[39m\u001b[38;5;130;01m\\\\\u001b[39;00m\u001b[38;5;124m'\u001b[39m)[\u001b[38;5;241m-\u001b[39m\u001b[38;5;241m1\u001b[39m]\u001b[38;5;241m.\u001b[39msplit(\u001b[38;5;124m'\u001b[39m\u001b[38;5;124m_\u001b[39m\u001b[38;5;124m'\u001b[39m)[\u001b[38;5;241m-\u001b[39m\u001b[38;5;241m3\u001b[39m] \u001b[38;5;241m==\u001b[39m \u001b[38;5;124m'\u001b[39m\u001b[38;5;124mN\u001b[39m\u001b[38;5;124m'\u001b[39m \u001b[38;5;28;01melse\u001b[39;00m \u001b[38;5;241m1\u001b[39m,\n\u001b[1;32m----> 5\u001b[0m         \u001b[38;5;124m'\u001b[39m\u001b[38;5;124mvalue\u001b[39m\u001b[38;5;124m'\u001b[39m: \u001b[43mget_pose\u001b[49m\u001b[43m(\u001b[49m\u001b[43mimg_list\u001b[49m\u001b[43m,\u001b[49m\u001b[43m \u001b[49m\u001b[43mlbl_list\u001b[49m\u001b[43m,\u001b[49m\u001b[43m \u001b[49m\u001b[38;5;124;43m'\u001b[39;49m\u001b[38;5;124;43myolo\u001b[39;49m\u001b[38;5;124;43m'\u001b[39;49m\u001b[43m,\u001b[49m\u001b[43m \u001b[49m\u001b[43mattention_dot\u001b[49m\u001b[43m,\u001b[49m\u001b[43m \u001b[49m\u001b[43mdraw_line\u001b[49m\u001b[43m,\u001b[49m\u001b[43m \u001b[49m\u001b[38;5;28;43;01mFalse\u001b[39;49;00m\u001b[43m)\u001b[49m\n\u001b[0;32m      6\u001b[0m         },\n\u001b[0;32m      7\u001b[0m     image_pose_input, label_pose_input\n\u001b[0;32m      8\u001b[0m     ))\n",
      "Cell \u001b[1;32mIn[8], line 37\u001b[0m, in \u001b[0;36mget_pose\u001b[1;34m(image_list, label_list, label_type, attention_dot, draw_line, isSample, sample_size)\u001b[0m\n\u001b[0;32m     35\u001b[0m c_img \u001b[38;5;241m=\u001b[39m img[bbox[\u001b[38;5;241m1\u001b[39m]:bbox[\u001b[38;5;241m3\u001b[39m], bbox[\u001b[38;5;241m0\u001b[39m]:bbox[\u001b[38;5;241m2\u001b[39m]] \u001b[38;5;66;03m# 바운딩 박스 좌표\u001b[39;00m\n\u001b[0;32m     36\u001b[0m \u001b[38;5;28;01mdel\u001b[39;00m img\n\u001b[1;32m---> 37\u001b[0m results \u001b[38;5;241m=\u001b[39m \u001b[43mpose\u001b[49m\u001b[38;5;241;43m.\u001b[39;49m\u001b[43mprocess\u001b[49m\u001b[43m(\u001b[49m\u001b[43mc_img\u001b[49m\u001b[43m)\u001b[49m \u001b[38;5;66;03m# Yolov5 바운딩 박스 좌표 안에서 'mp_pose' 좌표\u001b[39;00m\n\u001b[0;32m     39\u001b[0m \u001b[38;5;28;01mif\u001b[39;00m \u001b[38;5;129;01mnot\u001b[39;00m results\u001b[38;5;241m.\u001b[39mpose_landmarks: \u001b[38;5;28;01mcontinue\u001b[39;00m\n\u001b[0;32m     40\u001b[0m idx \u001b[38;5;241m=\u001b[39m \u001b[38;5;241m0\u001b[39m\n",
      "File \u001b[1;32m~\\AppData\\Local\\Packages\\PythonSoftwareFoundation.Python.3.11_qbz5n2kfra8p0\\LocalCache\\local-packages\\Python311\\site-packages\\mediapipe\\python\\solutions\\pose.py:185\u001b[0m, in \u001b[0;36mPose.process\u001b[1;34m(self, image)\u001b[0m\n\u001b[0;32m    164\u001b[0m \u001b[38;5;28;01mdef\u001b[39;00m \u001b[38;5;21mprocess\u001b[39m(\u001b[38;5;28mself\u001b[39m, image: np\u001b[38;5;241m.\u001b[39mndarray) \u001b[38;5;241m-\u001b[39m\u001b[38;5;241m>\u001b[39m NamedTuple:\n\u001b[0;32m    165\u001b[0m \u001b[38;5;250m  \u001b[39m\u001b[38;5;124;03m\"\"\"Processes an RGB image and returns the pose landmarks on the most prominent person detected.\u001b[39;00m\n\u001b[0;32m    166\u001b[0m \n\u001b[0;32m    167\u001b[0m \u001b[38;5;124;03m  Args:\u001b[39;00m\n\u001b[1;32m   (...)\u001b[0m\n\u001b[0;32m    182\u001b[0m \u001b[38;5;124;03m         \"enable_segmentation\" is set to true.\u001b[39;00m\n\u001b[0;32m    183\u001b[0m \u001b[38;5;124;03m  \"\"\"\u001b[39;00m\n\u001b[1;32m--> 185\u001b[0m   results \u001b[38;5;241m=\u001b[39m \u001b[38;5;28;43msuper\u001b[39;49m\u001b[43m(\u001b[49m\u001b[43m)\u001b[49m\u001b[38;5;241;43m.\u001b[39;49m\u001b[43mprocess\u001b[49m\u001b[43m(\u001b[49m\u001b[43minput_data\u001b[49m\u001b[38;5;241;43m=\u001b[39;49m\u001b[43m{\u001b[49m\u001b[38;5;124;43m'\u001b[39;49m\u001b[38;5;124;43mimage\u001b[39;49m\u001b[38;5;124;43m'\u001b[39;49m\u001b[43m:\u001b[49m\u001b[43m \u001b[49m\u001b[43mimage\u001b[49m\u001b[43m}\u001b[49m\u001b[43m)\u001b[49m\n\u001b[0;32m    186\u001b[0m   \u001b[38;5;28;01mif\u001b[39;00m results\u001b[38;5;241m.\u001b[39mpose_landmarks:  \u001b[38;5;66;03m# pytype: disable=attribute-error\u001b[39;00m\n\u001b[0;32m    187\u001b[0m     \u001b[38;5;28;01mfor\u001b[39;00m landmark \u001b[38;5;129;01min\u001b[39;00m results\u001b[38;5;241m.\u001b[39mpose_landmarks\u001b[38;5;241m.\u001b[39mlandmark:  \u001b[38;5;66;03m# pytype: disable=attribute-error\u001b[39;00m\n",
      "File \u001b[1;32m~\\AppData\\Local\\Packages\\PythonSoftwareFoundation.Python.3.11_qbz5n2kfra8p0\\LocalCache\\local-packages\\Python311\\site-packages\\mediapipe\\python\\solution_base.py:335\u001b[0m, in \u001b[0;36mSolutionBase.process\u001b[1;34m(self, input_data)\u001b[0m\n\u001b[0;32m    329\u001b[0m   \u001b[38;5;28;01melse\u001b[39;00m:\n\u001b[0;32m    330\u001b[0m     \u001b[38;5;28mself\u001b[39m\u001b[38;5;241m.\u001b[39m_graph\u001b[38;5;241m.\u001b[39madd_packet_to_input_stream(\n\u001b[0;32m    331\u001b[0m         stream\u001b[38;5;241m=\u001b[39mstream_name,\n\u001b[0;32m    332\u001b[0m         packet\u001b[38;5;241m=\u001b[39m\u001b[38;5;28mself\u001b[39m\u001b[38;5;241m.\u001b[39m_make_packet(input_stream_type,\n\u001b[0;32m    333\u001b[0m                                  data)\u001b[38;5;241m.\u001b[39mat(\u001b[38;5;28mself\u001b[39m\u001b[38;5;241m.\u001b[39m_simulated_timestamp))\n\u001b[1;32m--> 335\u001b[0m \u001b[38;5;28;43mself\u001b[39;49m\u001b[38;5;241;43m.\u001b[39;49m\u001b[43m_graph\u001b[49m\u001b[38;5;241;43m.\u001b[39;49m\u001b[43mwait_until_idle\u001b[49m\u001b[43m(\u001b[49m\u001b[43m)\u001b[49m\n\u001b[0;32m    336\u001b[0m \u001b[38;5;66;03m# Create a NamedTuple object where the field names are mapping to the graph\u001b[39;00m\n\u001b[0;32m    337\u001b[0m \u001b[38;5;66;03m# output stream names.\u001b[39;00m\n\u001b[0;32m    338\u001b[0m solution_outputs \u001b[38;5;241m=\u001b[39m collections\u001b[38;5;241m.\u001b[39mnamedtuple(\n\u001b[0;32m    339\u001b[0m     \u001b[38;5;124m'\u001b[39m\u001b[38;5;124mSolutionOutputs\u001b[39m\u001b[38;5;124m'\u001b[39m, \u001b[38;5;28mself\u001b[39m\u001b[38;5;241m.\u001b[39m_output_stream_type_info\u001b[38;5;241m.\u001b[39mkeys())\n",
      "\u001b[1;31mKeyboardInterrupt\u001b[0m: "
     ]
    }
   ],
   "source": [
    "# ommision_total = 0\n",
    "# raw_data = list(map(\n",
    "#     lambda img_list, lbl_list: {\n",
    "#         'key': 0 if img_list[0].split('\\\\')[-1].split('_')[-3] == 'N' else 1,\n",
    "#         'value': get_pose(img_list, lbl_list, 'yolo', attention_dot, draw_line, False)\n",
    "#         },\n",
    "#     image_pose_input, label_pose_input\n",
    "#     ))"
   ]
  },
  {
   "cell_type": "code",
   "execution_count": 28,
   "metadata": {},
   "outputs": [],
   "source": [
    "def experiment():\n",
    "    return [1,1,1], 0"
   ]
  },
  {
   "cell_type": "code",
   "execution_count": 12,
   "metadata": {},
   "outputs": [
    {
     "name": "stderr",
     "output_type": "stream",
     "text": [
      "100%|██████████| 1196/1196 [10:07<00:00,  1.97it/s]"
     ]
    },
    {
     "name": "stdout",
     "output_type": "stream",
     "text": [
      "ommision:  0\n"
     ]
    },
    {
     "name": "stderr",
     "output_type": "stream",
     "text": [
      "\n"
     ]
    }
   ],
   "source": [
    "ommision_total = 0\n",
    "for img_list, lbl_list in zip(tqdm(image_pose_input), label_pose_input):\n",
    "    cls = 0 if img_list[0].split('\\\\')[-1].split('_')[-3] == 'N' else 1\n",
    "    pose_list, ommision_cnt = get_pose(img_list, lbl_list, 'yolo', attention_dot, draw_line, False, pose)\n",
    "    if pose_list != False:\n",
    "        raw_data.append({'key': cls, 'value': pose_list})\n",
    "    del pose_list, ommision_cnt\n",
    "    gc.collect()\n",
    "\n",
    "print('ommision: ', ommision_total)\n"
   ]
  },
  {
   "cell_type": "code",
   "execution_count": 16,
   "metadata": {},
   "outputs": [
    {
     "name": "stdout",
     "output_type": "stream",
     "text": [
      "{'key': 1, 'value': [[0.42174863815307617, 0.39682167768478394, 0.4331596791744232, 0.35357239842414856, 0.4459232687950134, 0.3624459505081177, 0.45696771144866943, 0.35902005434036255, 0.3984292149543762, 0.3622378408908844, 0.3938250243663788, 0.37350404262542725, 0.3832474648952484, 0.37446317076683044, 0.47753649950027466, 0.3479810655117035, 0.3714076280593872, 0.36939698457717896, 0.45053669810295105, 0.4097072184085846, 0.40958172082901, 0.4145335555076599, 0.5399222373962402, 0.39826542139053345, 0.3126985430717468, 0.4231944680213928, 0.5895161628723145, 0.5112392902374268, 0.313571959733963, 0.541357696056366, 0.5445574522018433, 0.5664742588996887, 0.3847618103027344, 0.6089386343955994, 0.5401108860969543, 0.5873429775238037, 0.39435330033302307, 0.6349895596504211, 0.5150372385978699, 0.5761933326721191, 0.41795235872268677, 0.6186273097991943, 0.5124875903129578, 0.5669752359390259, 0.4202782213687897, 0.6077748537063599, 0.5217708349227905, 0.5136910080909729, 0.4087259769439697, 0.5467408895492554, 0.663725733757019, 0.5438715815544128, 0.4077839255332947, 0.6399886608123779, 0.593460738658905, 0.5547492504119873, 0.382610946893692, 0.6623921990394592], [0.40911659598350525, 0.2977520227432251, 0.4025026261806488, 0.2733496427536011, 0.4057893455028534, 0.2709786593914032, 0.40862807631492615, 0.2690165340900421, 0.3815099596977234, 0.2825195789337158, 0.3697836995124817, 0.2867851257324219, 0.35820478200912476, 0.29086607694625854, 0.39353618025779724, 0.275020569562912, 0.33021268248558044, 0.3034040331840515, 0.4161671996116638, 0.3150393068790436, 0.3915241062641144, 0.3263765275478363, 0.44519129395484924, 0.3231927156448364, 0.29488030076026917, 0.40476393699645996, 0.5767710208892822, 0.3623983860015869, 0.2768145799636841, 0.5766950845718384, 0.7195281982421875, 0.3905477821826935, 0.30530989170074463, 0.7516765594482422, 0.7714804410934448, 0.38523972034454346, 0.30568253993988037, 0.7901418805122375, 0.7592291831970215, 0.40012574195861816, 0.33390069007873535, 0.7855790853500366, 0.7415516376495361, 0.4050846993923187, 0.3348565995693207, 0.7716686129570007, 0.4206824004650116, 0.5636628866195679, 0.33796024322509766, 0.6226493716239929, 0.5953126549720764, 0.4581790268421173, 0.4683705270290375, 0.6494759321212769, 0.5361666679382324, 0.6280950307846069, 0.5331616401672363, 0.6281169652938843], [0.7271113395690918, 0.3326745629310608, 0.7288253307342529, 0.31029415130615234, 0.7270829677581787, 0.3082001507282257, 0.7251396179199219, 0.30594515800476074, 0.7259660959243774, 0.3092276453971863, 0.722464919090271, 0.30660197138786316, 0.718572735786438, 0.30382582545280457, 0.6875302195549011, 0.2927533686161041, 0.6835993528366089, 0.29411599040031433, 0.7010348439216614, 0.3413330912590027, 0.6957631707191467, 0.338866263628006, 0.5749815702438354, 0.343980610370636, 0.5661697387695312, 0.37127041816711426, 0.47525858879089355, 0.49625134468078613, 0.49900728464126587, 0.5434086918830872, 0.474923312664032, 0.6319869160652161, 0.49206453561782837, 0.715372622013092, 0.46308937668800354, 0.6664121150970459, 0.48721906542778015, 0.7442933320999146, 0.4721491038799286, 0.6715611219406128, 0.5008619427680969, 0.7459923624992371, 0.46608060598373413, 0.6645717024803162, 0.500211238861084, 0.7306759357452393, 0.38053497672080994, 0.5115251541137695, 0.36292898654937744, 0.5479238629341125, 0.5958817005157471, 0.5108811855316162, 0.6143029928207397, 0.5650290846824646, 0.462994784116745, 0.6404187083244324, 0.45268553495407104, 0.6554000973701477], [0.4628209173679352, 0.24352233111858368, 0.4711529314517975, 0.22553512454032898, 0.4758404493331909, 0.22481802105903625, 0.48023101687431335, 0.22398990392684937, 0.4525860548019409, 0.22433295845985413, 0.4443823993206024, 0.22298672795295715, 0.43591421842575073, 0.22165551781654358, 0.4762633442878723, 0.2230452001094818, 0.4133869707584381, 0.22084195911884308, 0.46584877371788025, 0.2580832242965698, 0.444597065448761, 0.2583319842815399, 0.5319443345069885, 0.29039445519447327, 0.3276166617870331, 0.2933717966079712, 0.6841580867767334, 0.2805202901363373, 0.22089090943336487, 0.3014422357082367, 0.7836077809333801, 0.24302038550376892, 0.34249305725097656, 0.2623358964920044, 0.8227280378341675, 0.22688248753547668, 0.3704729378223419, 0.24592986702919006, 0.8202771544456482, 0.22050020098686218, 0.3823801279067993, 0.24821144342422485, 0.8069625496864319, 0.22709539532661438, 0.3775528371334076, 0.25651031732559204, 0.46440306305885315, 0.5539602041244507, 0.3432188332080841, 0.5583747029304504, 0.5180354118347168, 0.7061917781829834, 0.29538804292678833, 0.722560465335846, 0.5439205765724182, 0.7783001661300659, 0.2859404385089874, 0.8639287948608398], [0.5630258917808533, 0.2502375543117523, 0.5720567107200623, 0.23296448588371277, 0.5775215029716492, 0.23253464698791504, 0.583076000213623, 0.23203974962234497, 0.5547018051147461, 0.23218074440956116, 0.548355758190155, 0.23125803470611572, 0.5415548086166382, 0.2303408980369568, 0.5858332514762878, 0.23086662590503693, 0.5239555835723877, 0.22751423716545105, 0.5708743929862976, 0.26263779401779175, 0.5488771796226501, 0.2620515525341034, 0.6371784806251526, 0.2949967384338379, 0.4491490125656128, 0.29382267594337463, 0.7360500693321228, 0.3161091208457947, 0.3251573443412781, 0.30602362751960754, 0.8262678384780884, 0.3017476201057434, 0.227793350815773, 0.29482629895210266, 0.854627251625061, 0.29682087898254395, 0.1868225634098053, 0.30076101422309875, 0.8516666293144226, 0.2890259921550751, 0.19533781707286835, 0.3003908395767212, 0.8431626558303833, 0.2924383282661438, 0.2121688574552536, 0.30040159821510315, 0.5823913216590881, 0.528643786907196, 0.47935909032821655, 0.5326294898986816, 0.5271716117858887, 0.6775403022766113, 0.4574854373931885, 0.6815918684005737, 0.6211560368537903, 0.7925853729248047, 0.5091515183448792, 0.8024755716323853], [0.5911970734596252, 0.3287483751773834, 0.602062463760376, 0.3030446171760559, 0.6086443066596985, 0.3016006350517273, 0.6148015260696411, 0.3007715046405792, 0.5794830322265625, 0.3052620589733124, 0.570030152797699, 0.3050754964351654, 0.560591995716095, 0.30474498867988586, 0.6228654384613037, 0.3018117845058441, 0.5434792637825012, 0.30315741896629333, 0.6035028696060181, 0.3431815207004547, 0.5754420757293701, 0.34508928656578064, 0.6834678053855896, 0.3807838261127472, 0.47340208292007446, 0.3533725440502167, 0.6769020557403564, 0.5193805694580078, 0.43420809507369995, 0.5101895332336426, 0.7041192054748535, 0.6368729472160339, 0.4755500257015228, 0.6139798760414124, 0.7254411578178406, 0.6605799198150635, 0.4720752537250519, 0.6487321853637695, 0.7195712327957153, 0.6625993251800537, 0.4919518828392029, 0.6450339555740356, 0.7055726051330566, 0.6551728248596191, 0.5000835061073303, 0.6348950862884521, 0.5807976722717285, 0.6142369508743286, 0.46193769574165344, 0.6060796976089478, 0.5521928071975708, 0.4675939083099365, 0.3976997435092926, 0.46609365940093994, 0.5523768067359924, 0.6987553834915161, 0.37257444858551025, 0.6612700819969177], [0.40904417634010315, 0.3329378068447113, 0.41083237528800964, 0.30872610211372375, 0.4173368215560913, 0.3046032190322876, 0.4239720404148102, 0.3009093105792999, 0.3951703608036041, 0.3161431550979614, 0.3906051218509674, 0.31700918078422546, 0.3862202763557434, 0.3178698718547821, 0.44243744015693665, 0.29507681727409363, 0.3882948160171509, 0.3163175880908966, 0.43057548999786377, 0.33947932720184326, 0.41082489490509033, 0.348048597574234, 0.5752947926521301, 0.36031484603881836, 0.3486543893814087, 0.3919610381126404, 0.6225665807723999, 0.5102261304855347, 0.320726603269577, 0.5457103848457336, 0.6961194276809692, 0.6286406517028809, 0.3282891511917114, 0.6678040623664856, 0.7255602478981018, 0.6466345191001892, 0.31050652265548706, 0.6965211629867554, 0.7223518490791321, 0.652029275894165, 0.3224667012691498, 0.6955345869064331, 0.7044808268547058, 0.6469980478286743, 0.3355892300605774, 0.6848191618919373, 0.5461573600769043, 0.6246819496154785, 0.4227971136569977, 0.6340628862380981, 0.5095463991165161, 0.456128865480423, 0.3217375874519348, 0.441945880651474, 0.5108880996704102, 0.6929874420166016, 0.40535300970077515, 0.6485530138015747], [0.45917391777038574, 0.31253722310066223, 0.4538990259170532, 0.2917810082435608, 0.45858892798423767, 0.28882402181625366, 0.46323367953300476, 0.2861995995044708, 0.4373190402984619, 0.29987871646881104, 0.43016016483306885, 0.3024349808692932, 0.4230688810348511, 0.30504491925239563, 0.46716171503067017, 0.285852313041687, 0.4113960862159729, 0.3115462362766266, 0.47572752833366394, 0.32267293334007263, 0.4553757905960083, 0.32956662774086, 0.5891522169113159, 0.3621319532394409, 0.37810662388801575, 0.3937727212905884, 0.6862581372261047, 0.45659562945365906, 0.3521094024181366, 0.5379530787467957, 0.6074669361114502, 0.3319452106952667, 0.3655698895454407, 0.6540336608886719, 0.5942195653915405, 0.3087012767791748, 0.3301897943019867, 0.6940344572067261, 0.5852378606796265, 0.30229493975639343, 0.3454663157463074, 0.6941245198249817, 0.5857575535774231, 0.31082382798194885, 0.3613097369670868, 0.6827024817466736, 0.5811748504638672, 0.6024360060691833, 0.4561619162559509, 0.6177223324775696, 0.5439565181732178, 0.42770642042160034, 0.36891207098960876, 0.432567834854126, 0.5433210730552673, 0.6471484899520874, 0.4804009795188904, 0.653138279914856], [0.4827072024345398, 0.3019031286239624, 0.4756122827529907, 0.2841028869152069, 0.4783931076526642, 0.282564640045166, 0.4810512661933899, 0.28105705976486206, 0.4625221788883209, 0.2896811366081238, 0.4558413624763489, 0.29195576906204224, 0.4486102759838104, 0.2944689989089966, 0.4726666510105133, 0.2861543893814087, 0.4253673553466797, 0.3066118061542511, 0.49181628227233887, 0.318132221698761, 0.475234717130661, 0.3240692615509033, 0.5765289068222046, 0.3617100715637207, 0.38086071610450745, 0.39181801676750183, 0.6780617833137512, 0.45282989740371704, 0.3664925992488861, 0.5251109600067139, 0.6107743382453918, 0.3294072151184082, 0.3684563934803009, 0.6494524478912354, 0.5941507816314697, 0.307411253452301, 0.3508555293083191, 0.6725978851318359, 0.5849043130874634, 0.3049848675727844, 0.3594796359539032, 0.680558443069458, 0.5869536995887756, 0.3138304650783539, 0.37504449486732483, 0.6699352860450745, 0.5532400608062744, 0.6057383418083191, 0.44414299726486206, 0.6214158535003662, 0.6732502579689026, 0.49571359157562256, 0.4199158549308777, 0.44357892870903015, 0.5033226609230042, 0.6305416822433472, 0.5763593912124634, 0.6803886890411377], [0.4402502775192261, 0.32683488726615906, 0.43409377336502075, 0.3031892478466034, 0.4371267259120941, 0.3001220226287842, 0.4400698244571686, 0.29723048210144043, 0.4182809889316559, 0.31261929869651794, 0.4101507067680359, 0.3160545527935028, 0.4023621380329132, 0.3194975256919861, 0.4343298077583313, 0.2953069508075714, 0.3841254711151123, 0.3258473873138428, 0.45053955912590027, 0.34064042568206787, 0.43073341250419617, 0.35194632411003113, 0.5564300417900085, 0.33199021220207214, 0.3382035195827484, 0.40574541687965393, 0.6304271221160889, 0.498218297958374, 0.327505499124527, 0.5422976016998291, 0.6989363431930542, 0.6290760636329651, 0.318045973777771, 0.6693747043609619, 0.7300934791564941, 0.6454331874847412, 0.30617040395736694, 0.6965638995170593, 0.7254228591918945, 0.6461763978004456, 0.32136809825897217, 0.6944617033004761, 0.7073403596878052, 0.6421791911125183, 0.3254595398902893, 0.6861673593521118, 0.5435800552368164, 0.6115715503692627, 0.4208456575870514, 0.629461407661438, 0.6355871558189392, 0.48143070936203003, 0.3681665062904358, 0.45843029022216797, 0.5499756336212158, 0.6554746627807617, 0.4965733587741852, 0.6713407635688782]]}\n",
      "normal data: 580 | fall data: 555\n"
     ]
    }
   ],
   "source": [
    "print(raw_data[0])\n",
    "random.shuffle(raw_data)\n",
    "nd = 0\n",
    "ad = 0\n",
    "for i in range(len(raw_data)):\n",
    "    if raw_data[i]['key'] == 0:\n",
    "        nd += 1\n",
    "    else:\n",
    "        ad += 1\n",
    "print('normal data:', nd, '| fall data:', ad)"
   ]
  },
  {
   "cell_type": "code",
   "execution_count": 17,
   "metadata": {},
   "outputs": [
    {
     "data": {
      "text/plain": [
       "device(type='cuda')"
      ]
     },
     "execution_count": 17,
     "metadata": {},
     "output_type": "execute_result"
    }
   ],
   "source": [
    "device = torch.device('cuda' if torch.cuda.is_available() else 'cpu')\n",
    "device"
   ]
  },
  {
   "cell_type": "code",
   "execution_count": 18,
   "metadata": {},
   "outputs": [],
   "source": [
    "class MyDataset(Dataset):\n",
    "    def __init__(self, seq_list):\n",
    "        self.X = []\n",
    "        self.y = []\n",
    "        for dic in seq_list :\n",
    "            self.y.append(dic['key'])\n",
    "            self.X.append(dic['value'])\n",
    "\n",
    "    def __getitem__(self, index):\n",
    "        data = self.X[index]\n",
    "        label = self.y[index]\n",
    "        return torch.Tensor(np.array(data)), torch.tensor(np.array(int(label)))\n",
    "\n",
    "    def __len__(self):\n",
    "        return len(self.X)"
   ]
  },
  {
   "cell_type": "code",
   "execution_count": 19,
   "metadata": {},
   "outputs": [
    {
     "name": "stdout",
     "output_type": "stream",
     "text": [
      "908, 113, 114\n"
     ]
    }
   ],
   "source": [
    "split_ratio = [0.8, 0.1, 0.1]\n",
    "train_len = int(len(raw_data) * split_ratio[0])\n",
    "val_len = int(len(raw_data) * split_ratio[1])\n",
    "test_len = len(raw_data) - train_len - val_len\n",
    "\n",
    "print('{}, {}, {}'.format(train_len, val_len, test_len))"
   ]
  },
  {
   "cell_type": "code",
   "execution_count": 20,
   "metadata": {},
   "outputs": [],
   "source": [
    "train_dataset = MyDataset(raw_data)\n",
    "train_data, valid_data, test_data = random_split(train_dataset, [train_len, val_len, test_len])\n",
    "\n",
    "train_loader = DataLoader(train_data, batch_size=BATCH_SIZE)\n",
    "val_loader = DataLoader(valid_data, batch_size=BATCH_SIZE)\n",
    "test_loader = DataLoader(test_data, batch_size=BATCH_SIZE)"
   ]
  },
  {
   "cell_type": "code",
   "execution_count": 21,
   "metadata": {},
   "outputs": [],
   "source": [
    "# LSTM\n",
    "class skeleton_LSTM(nn.Module):\n",
    "    def __init__(self):\n",
    "        super(skeleton_LSTM, self).__init__()\n",
    "        self.lstm1 = nn.LSTM(input_size=len(attention_dot) * 2, hidden_size=128, num_layers=NUM_LAYERS, batch_first=True)\n",
    "        self.lstm2 = nn.LSTM(input_size=128, hidden_size=256, num_layers=NUM_LAYERS, batch_first=True)\n",
    "        self.lstm3 = nn.LSTM(input_size=256, hidden_size=512, num_layers=NUM_LAYERS, batch_first=True)\n",
    "        self.dropout1 = nn.Dropout(0.1)\n",
    "        self.lstm4 = nn.LSTM(input_size=512, hidden_size=256, num_layers=NUM_LAYERS, batch_first=True)\n",
    "        self.lstm5 = nn.LSTM(input_size=256, hidden_size=128, num_layers=NUM_LAYERS, batch_first=True)\n",
    "        self.lstm6 = nn.LSTM(input_size=128, hidden_size=64, num_layers=NUM_LAYERS, batch_first=True)\n",
    "        self.dropout2 = nn.Dropout(0.1)\n",
    "        self.lstm7 = nn.LSTM(input_size=64, hidden_size=32, num_layers=NUM_LAYERS, batch_first=True)\n",
    "        self.fc = nn.Linear(32,2)\n",
    "\n",
    "    def forward(self, x) :\n",
    "        x, _ = self.lstm1(x)\n",
    "        x, _ = self.lstm2(x)\n",
    "        x, _ = self.lstm3(x)\n",
    "        x = self.dropout1(x)\n",
    "        x, _ = self.lstm4(x)\n",
    "        x, _ = self.lstm5(x)\n",
    "        x, _ = self.lstm6(x)\n",
    "        x = self.dropout2(x)\n",
    "        x, _ = self.lstm7(x)\n",
    "        x = self.fc(x[:,-1,:]) # x[배치 크기, 시퀀스 길이, 은닉 상태 크기], [:, -1, :] -> 마지막 시간 단계만 선택\n",
    "\n",
    "        return x\n",
    "     "
   ]
  },
  {
   "cell_type": "code",
   "execution_count": 22,
   "metadata": {},
   "outputs": [],
   "source": [
    "class skeleton_GRU(nn.Module):\n",
    "    def __init__(self):\n",
    "        super(skeleton_GRU, self).__init__()\n",
    "        self.GRU1 = nn.GRU(input_size=len(attention_dot) * 2, hidden_size=128, num_layers=NUM_LAYERS, batch_first=True)\n",
    "        self.GRU2 = nn.GRU(input_size=128, hidden_size=256, num_layers=NUM_LAYERS, batch_first=True)\n",
    "        self.GRU3 = nn.GRU(input_size=256, hidden_size=512, num_layers=NUM_LAYERS, batch_first=True)\n",
    "        self.dropout1 = nn.Dropout(0.1)\n",
    "        self.GRU4 = nn.GRU(input_size=512, hidden_size=256, num_layers=NUM_LAYERS, batch_first=True)\n",
    "        self.GRU5 = nn.GRU(input_size=256, hidden_size=128, num_layers=NUM_LAYERS, batch_first=True)\n",
    "        self.GRU6 = nn.GRU(input_size=128, hidden_size=64, num_layers=NUM_LAYERS, batch_first=True)\n",
    "        self.dropout2 = nn.Dropout(0.1)\n",
    "        self.GRU7 = nn.GRU(input_size=64, hidden_size=32, num_layers=NUM_LAYERS, batch_first=True)\n",
    "        self.fc = nn.Linear(32,2)\n",
    "\n",
    "    def forward(self, x) :\n",
    "        x, _ = self.GRU1(x)\n",
    "        x, _ = self.GRU2(x)\n",
    "        x, _ = self.GRU3(x)\n",
    "        x = self.dropout1(x)\n",
    "        x, _ = self.GRU4(x)\n",
    "        x, _ = self.GRU5(x)\n",
    "        x, _ = self.GRU6(x)\n",
    "        x = self.dropout2(x)\n",
    "        x, _ = self.GRU7(x)\n",
    "        x = self.fc(x[:,-1,:]) # x[배치 크기, 시퀀스 길이, 은닉 상태 크기], [:, -1, :] -> 마지막 시간 단계만 선택\n",
    "\n",
    "        return x"
   ]
  },
  {
   "cell_type": "code",
   "execution_count": 23,
   "metadata": {},
   "outputs": [],
   "source": [
    "# 모델 초기화\n",
    "\n",
    "def init_model():\n",
    "    global net, loss_fn, optim\n",
    "    plt.rc('font', size = 10)\n",
    "    net = skeleton_LSTM().to(device)\n",
    "    loss_fn = nn.CrossEntropyLoss()\n",
    "    optim = Adam(net.parameters(), lr=0.0001)\n",
    "\n",
    "# epoch 카운터 초기화\n",
    "def init_epoch():\n",
    "    global epoch_cnt\n",
    "    epoch_cnt = 0\n",
    "\n",
    "# 모든 Log를 초기화\n",
    "def init_log():\n",
    "    global log_stack, iter_log, tloss_log, tacc_log, vloss_log, vacc_log, time_log\n",
    "    plt.rc('font', size = 10)\n",
    "    iter_log, tloss_log, tacc_log, vloss_log, vacc_log = [], [], [], [], []\n",
    "    time_log, log_stack = [], []"
   ]
  },
  {
   "cell_type": "code",
   "execution_count": 24,
   "metadata": {},
   "outputs": [],
   "source": [
    "def record_train_log(_tloss, _tacc, _time):\n",
    "    # Train Log 기록\n",
    "    time_log.append(_time)\n",
    "    tloss_log.append(_tloss)\n",
    "    tacc_log.append(_tacc)\n",
    "    iter_log.append(epoch_cnt)\n",
    "\n",
    "def record_valid_log(_vloss, _vacc):\n",
    "    # Validation Log 기록\n",
    "    vloss_log.append(_vloss)\n",
    "    vacc_log.append(_vacc)\n",
    "\n",
    "def last(log_list):\n",
    "    # last 안의 마지막 숫자를 반환(print_log 함수에서 사용)\n",
    "    if len(log_list) > 0:\n",
    "        return log_list[len(log_list) - 1]\n",
    "    else:\n",
    "        return -1\n",
    "\n",
    "def print_log():\n",
    "    # 학습 추이 출력 : 소숫점 3자리까지\n",
    "    train_loss = round(float(last(tloss_log)), 3)\n",
    "    train_acc = round(float(last(tacc_log)), 3)\n",
    "    val_loss = round(float(last(vloss_log)), 3)\n",
    "    val_acc = round(float(last(vacc_log)), 3)\n",
    "    time_spent = round(float(last(time_log)), 3)\n",
    "\n",
    "    log_str = 'Epoch: {:3} | T_Loss {:5} | T_Acc {:5} | V_Loss {:5} | V_Acc {:5} | {:5}'.format(last(iter_log), train_loss, train_acc, val_loss, val_acc, time_spent)\n",
    "\n",
    "    log_stack.append(log_str)\n",
    "    \n",
    "    # 학습 추이 그래프 출력\n",
    "    hist_fig, loss_axis = plt.subplots(figsize=(10, 3), dpi=99)\n",
    "    hist_fig.patch.set_facecolor('white')\n",
    "\n",
    "    # Loss Line 구성\n",
    "    loss_t_line = plt.plot(iter_log, tloss_log, label='Train_Loss', color='red', marker='o')\n",
    "    loss_v_line = plt.plot(iter_log, vloss_log, label='Valid_Loss', color='blue', marker='s')\n",
    "    loss_axis.set_xlabel('epoch')\n",
    "    loss_axis.set_ylabel('loss')\n",
    "\n",
    "    # Acc, Line 구성\n",
    "    acc_axis = loss_axis.twinx()\n",
    "    acc_t_line = acc_axis.plot(iter_log, tacc_log, label='Train_Acc', color='red', marker='+')\n",
    "    acc_v_line = acc_axis.plot(iter_log, vacc_log, label='Valid_Acc', color='blue', marker='x')\n",
    "    acc_axis.set_ylabel('accuracy')\n",
    "\n",
    "    # 그래프 출력\n",
    "    hist_lines = loss_t_line + loss_v_line + acc_t_line + acc_v_line\n",
    "    loss_axis.legend(hist_lines, [l.get_label() for l in hist_lines])\n",
    "    loss_axis.grid()\n",
    "    plt.title('Learning history until epoch {}'.format(last(iter_log)))\n",
    "    plt.draw()\n",
    "\n",
    "    # 텍스트 로그 출력\n",
    "    clear_output(wait=True)\n",
    "    plt.show()\n",
    "    for idx in reversed(range(len(log_stack))):\n",
    "        print(log_stack[idx])"
   ]
  },
  {
   "cell_type": "code",
   "execution_count": 25,
   "metadata": {},
   "outputs": [],
   "source": [
    "def clear_memory():\n",
    "    if device != 'cpu':\n",
    "        empty_cache()\n",
    "    gc.collect()\n",
    "\n",
    "# 학습 알고리즘\n",
    "def epoch(data_loader, mode = 'train'):\n",
    "    global epoch_cnt\n",
    "\n",
    "    # 사용되는 변수 초기화\n",
    "    iter_loss, iter_acc, last_grad_performed = [], [], False\n",
    "\n",
    "    # 1 iteration 학습 알고리즘(for문을 나오면 1 epoch 완료)\n",
    "    for _data, _label in data_loader:\n",
    "        data, label = _data.to(device), _label.type(torch.LongTensor).to(device)\n",
    "\n",
    "        # 1. Feed-forward\n",
    "        if mode == 'train':\n",
    "            net.train()\n",
    "        else:\n",
    "            # 학습때만 쓰이는 Dropout, Batch Mormalization을 미사용\n",
    "            net.eval()\n",
    "\n",
    "        result = net(data) # 1 Batch에 대한 결과가 모든 Class에 대한 확률값으로\n",
    "        _, out = torch.max(result, 1) # result에서 최대 확률값을 기준으로 예측 class 도출( _ : 값 부분은 필요 없음, out : index 중 가장 큰 하나의 데이터)\n",
    "\n",
    "        # 2. Loss 계산\n",
    "        loss = loss_fn(result, label) # GT 와 Label 비교하여 Loss 산정\n",
    "        iter_loss.append(loss.item()) # 학습 추이를 위하여 Loss를 기록\n",
    "\n",
    "        # 3. 역전파 학습 후 Gradient Descent\n",
    "        if mode == 'train':\n",
    "            optim.zero_grad() # 미분을 통해 얻은 기울기를 초기화 for 다음 epoch\n",
    "            loss.backward() # 역전파 학습\n",
    "            optim.step() # Gradient Descent 수행\n",
    "            last_grad_performed = True # for문을 나가면 epoch 카운터 += 1\n",
    "\n",
    "        # 4. 정확도 계산\n",
    "        acc_partial = (out == label).float().sum() # GT == Label 인 개수\n",
    "        acc_partial = acc_partial / len(label) # ( TP / (TP + TM)) 해서 정확도 산출\n",
    "        iter_acc.append(acc_partial.item()) # 학습 추이를 위하여 Acc. 기록\n",
    "\n",
    "    # 역전파 학습 후 Epoch 카운터 += 1\n",
    "    if last_grad_performed:\n",
    "        epoch_cnt += 1\n",
    "\n",
    "    clear_memory()\n",
    "\n",
    "    # loss와 acc의 평균값 for 학습추이 그래프, 모든 GT와 Label 값 for 컨퓨전 매트릭스\n",
    "    return np.average(iter_loss), np.average(iter_acc)\n",
    "\n",
    "def epoch_not_finished():\n",
    "    # 에폭이 끝남을 알림\n",
    "    return epoch_cnt < maximum_epoch"
   ]
  },
  {
   "cell_type": "code",
   "execution_count": 26,
   "metadata": {},
   "outputs": [
    {
     "ename": "RuntimeError",
     "evalue": "stack expects each tensor to be equal size, but got [10, 58] at entry 0 and [7, 58] at entry 2",
     "output_type": "error",
     "traceback": [
      "\u001b[1;31m---------------------------------------------------------------------------\u001b[0m",
      "\u001b[1;31mRuntimeError\u001b[0m                              Traceback (most recent call last)",
      "Cell \u001b[1;32mIn[26], line 12\u001b[0m\n\u001b[0;32m      9\u001b[0m \u001b[38;5;28;01mwhile\u001b[39;00m epoch_not_finished():\n\u001b[0;32m     10\u001b[0m     start_time \u001b[38;5;241m=\u001b[39m time\u001b[38;5;241m.\u001b[39mtime()\n\u001b[1;32m---> 12\u001b[0m     tloss, tacc \u001b[38;5;241m=\u001b[39m \u001b[43mepoch\u001b[49m\u001b[43m(\u001b[49m\u001b[43mtrain_loader\u001b[49m\u001b[43m,\u001b[49m\u001b[43m \u001b[49m\u001b[43mmode\u001b[49m\u001b[43m \u001b[49m\u001b[38;5;241;43m=\u001b[39;49m\u001b[43m \u001b[49m\u001b[38;5;124;43m'\u001b[39;49m\u001b[38;5;124;43mtrain\u001b[39;49m\u001b[38;5;124;43m'\u001b[39;49m\u001b[43m)\u001b[49m\n\u001b[0;32m     14\u001b[0m     end_time \u001b[38;5;241m=\u001b[39m time\u001b[38;5;241m.\u001b[39mtime()\n\u001b[0;32m     15\u001b[0m     time_taken \u001b[38;5;241m=\u001b[39m end_time \u001b[38;5;241m-\u001b[39m start_time\n",
      "Cell \u001b[1;32mIn[25], line 14\u001b[0m, in \u001b[0;36mepoch\u001b[1;34m(data_loader, mode)\u001b[0m\n\u001b[0;32m     11\u001b[0m iter_loss, iter_acc, last_grad_performed \u001b[38;5;241m=\u001b[39m [], [], \u001b[38;5;28;01mFalse\u001b[39;00m\n\u001b[0;32m     13\u001b[0m \u001b[38;5;66;03m# 1 iteration 학습 알고리즘(for문을 나오면 1 epoch 완료)\u001b[39;00m\n\u001b[1;32m---> 14\u001b[0m \u001b[43m\u001b[49m\u001b[38;5;28;43;01mfor\u001b[39;49;00m\u001b[43m \u001b[49m\u001b[43m_data\u001b[49m\u001b[43m,\u001b[49m\u001b[43m \u001b[49m\u001b[43m_label\u001b[49m\u001b[43m \u001b[49m\u001b[38;5;129;43;01min\u001b[39;49;00m\u001b[43m \u001b[49m\u001b[43mdata_loader\u001b[49m\u001b[43m:\u001b[49m\n\u001b[0;32m     15\u001b[0m \u001b[43m    \u001b[49m\u001b[43mdata\u001b[49m\u001b[43m,\u001b[49m\u001b[43m \u001b[49m\u001b[43mlabel\u001b[49m\u001b[43m \u001b[49m\u001b[38;5;241;43m=\u001b[39;49m\u001b[43m \u001b[49m\u001b[43m_data\u001b[49m\u001b[38;5;241;43m.\u001b[39;49m\u001b[43mto\u001b[49m\u001b[43m(\u001b[49m\u001b[43mdevice\u001b[49m\u001b[43m)\u001b[49m\u001b[43m,\u001b[49m\u001b[43m \u001b[49m\u001b[43m_label\u001b[49m\u001b[38;5;241;43m.\u001b[39;49m\u001b[43mtype\u001b[49m\u001b[43m(\u001b[49m\u001b[43mtorch\u001b[49m\u001b[38;5;241;43m.\u001b[39;49m\u001b[43mLongTensor\u001b[49m\u001b[43m)\u001b[49m\u001b[38;5;241;43m.\u001b[39;49m\u001b[43mto\u001b[49m\u001b[43m(\u001b[49m\u001b[43mdevice\u001b[49m\u001b[43m)\u001b[49m\n\u001b[0;32m     17\u001b[0m \u001b[43m    \u001b[49m\u001b[38;5;66;43;03m# 1. Feed-forward\u001b[39;49;00m\n",
      "File \u001b[1;32m~\\AppData\\Local\\Packages\\PythonSoftwareFoundation.Python.3.11_qbz5n2kfra8p0\\LocalCache\\local-packages\\Python311\\site-packages\\torch\\utils\\data\\dataloader.py:630\u001b[0m, in \u001b[0;36m_BaseDataLoaderIter.__next__\u001b[1;34m(self)\u001b[0m\n\u001b[0;32m    627\u001b[0m \u001b[38;5;28;01mif\u001b[39;00m \u001b[38;5;28mself\u001b[39m\u001b[38;5;241m.\u001b[39m_sampler_iter \u001b[38;5;129;01mis\u001b[39;00m \u001b[38;5;28;01mNone\u001b[39;00m:\n\u001b[0;32m    628\u001b[0m     \u001b[38;5;66;03m# TODO(https://github.com/pytorch/pytorch/issues/76750)\u001b[39;00m\n\u001b[0;32m    629\u001b[0m     \u001b[38;5;28mself\u001b[39m\u001b[38;5;241m.\u001b[39m_reset()  \u001b[38;5;66;03m# type: ignore[call-arg]\u001b[39;00m\n\u001b[1;32m--> 630\u001b[0m data \u001b[38;5;241m=\u001b[39m \u001b[38;5;28;43mself\u001b[39;49m\u001b[38;5;241;43m.\u001b[39;49m\u001b[43m_next_data\u001b[49m\u001b[43m(\u001b[49m\u001b[43m)\u001b[49m\n\u001b[0;32m    631\u001b[0m \u001b[38;5;28mself\u001b[39m\u001b[38;5;241m.\u001b[39m_num_yielded \u001b[38;5;241m+\u001b[39m\u001b[38;5;241m=\u001b[39m \u001b[38;5;241m1\u001b[39m\n\u001b[0;32m    632\u001b[0m \u001b[38;5;28;01mif\u001b[39;00m \u001b[38;5;28mself\u001b[39m\u001b[38;5;241m.\u001b[39m_dataset_kind \u001b[38;5;241m==\u001b[39m _DatasetKind\u001b[38;5;241m.\u001b[39mIterable \u001b[38;5;129;01mand\u001b[39;00m \\\n\u001b[0;32m    633\u001b[0m         \u001b[38;5;28mself\u001b[39m\u001b[38;5;241m.\u001b[39m_IterableDataset_len_called \u001b[38;5;129;01mis\u001b[39;00m \u001b[38;5;129;01mnot\u001b[39;00m \u001b[38;5;28;01mNone\u001b[39;00m \u001b[38;5;129;01mand\u001b[39;00m \\\n\u001b[0;32m    634\u001b[0m         \u001b[38;5;28mself\u001b[39m\u001b[38;5;241m.\u001b[39m_num_yielded \u001b[38;5;241m>\u001b[39m \u001b[38;5;28mself\u001b[39m\u001b[38;5;241m.\u001b[39m_IterableDataset_len_called:\n",
      "File \u001b[1;32m~\\AppData\\Local\\Packages\\PythonSoftwareFoundation.Python.3.11_qbz5n2kfra8p0\\LocalCache\\local-packages\\Python311\\site-packages\\torch\\utils\\data\\dataloader.py:673\u001b[0m, in \u001b[0;36m_SingleProcessDataLoaderIter._next_data\u001b[1;34m(self)\u001b[0m\n\u001b[0;32m    671\u001b[0m \u001b[38;5;28;01mdef\u001b[39;00m \u001b[38;5;21m_next_data\u001b[39m(\u001b[38;5;28mself\u001b[39m):\n\u001b[0;32m    672\u001b[0m     index \u001b[38;5;241m=\u001b[39m \u001b[38;5;28mself\u001b[39m\u001b[38;5;241m.\u001b[39m_next_index()  \u001b[38;5;66;03m# may raise StopIteration\u001b[39;00m\n\u001b[1;32m--> 673\u001b[0m     data \u001b[38;5;241m=\u001b[39m \u001b[38;5;28;43mself\u001b[39;49m\u001b[38;5;241;43m.\u001b[39;49m\u001b[43m_dataset_fetcher\u001b[49m\u001b[38;5;241;43m.\u001b[39;49m\u001b[43mfetch\u001b[49m\u001b[43m(\u001b[49m\u001b[43mindex\u001b[49m\u001b[43m)\u001b[49m  \u001b[38;5;66;03m# may raise StopIteration\u001b[39;00m\n\u001b[0;32m    674\u001b[0m     \u001b[38;5;28;01mif\u001b[39;00m \u001b[38;5;28mself\u001b[39m\u001b[38;5;241m.\u001b[39m_pin_memory:\n\u001b[0;32m    675\u001b[0m         data \u001b[38;5;241m=\u001b[39m _utils\u001b[38;5;241m.\u001b[39mpin_memory\u001b[38;5;241m.\u001b[39mpin_memory(data, \u001b[38;5;28mself\u001b[39m\u001b[38;5;241m.\u001b[39m_pin_memory_device)\n",
      "File \u001b[1;32m~\\AppData\\Local\\Packages\\PythonSoftwareFoundation.Python.3.11_qbz5n2kfra8p0\\LocalCache\\local-packages\\Python311\\site-packages\\torch\\utils\\data\\_utils\\fetch.py:55\u001b[0m, in \u001b[0;36m_MapDatasetFetcher.fetch\u001b[1;34m(self, possibly_batched_index)\u001b[0m\n\u001b[0;32m     53\u001b[0m \u001b[38;5;28;01melse\u001b[39;00m:\n\u001b[0;32m     54\u001b[0m     data \u001b[38;5;241m=\u001b[39m \u001b[38;5;28mself\u001b[39m\u001b[38;5;241m.\u001b[39mdataset[possibly_batched_index]\n\u001b[1;32m---> 55\u001b[0m \u001b[38;5;28;01mreturn\u001b[39;00m \u001b[38;5;28;43mself\u001b[39;49m\u001b[38;5;241;43m.\u001b[39;49m\u001b[43mcollate_fn\u001b[49m\u001b[43m(\u001b[49m\u001b[43mdata\u001b[49m\u001b[43m)\u001b[49m\n",
      "File \u001b[1;32m~\\AppData\\Local\\Packages\\PythonSoftwareFoundation.Python.3.11_qbz5n2kfra8p0\\LocalCache\\local-packages\\Python311\\site-packages\\torch\\utils\\data\\_utils\\collate.py:317\u001b[0m, in \u001b[0;36mdefault_collate\u001b[1;34m(batch)\u001b[0m\n\u001b[0;32m    256\u001b[0m \u001b[38;5;28;01mdef\u001b[39;00m \u001b[38;5;21mdefault_collate\u001b[39m(batch):\n\u001b[0;32m    257\u001b[0m \u001b[38;5;250m    \u001b[39m\u001b[38;5;124mr\u001b[39m\u001b[38;5;124;03m\"\"\"\u001b[39;00m\n\u001b[0;32m    258\u001b[0m \u001b[38;5;124;03m    Take in a batch of data and put the elements within the batch into a tensor with an additional outer dimension - batch size.\u001b[39;00m\n\u001b[0;32m    259\u001b[0m \n\u001b[1;32m   (...)\u001b[0m\n\u001b[0;32m    315\u001b[0m \u001b[38;5;124;03m        >>> default_collate(batch)  # Handle `CustomType` automatically\u001b[39;00m\n\u001b[0;32m    316\u001b[0m \u001b[38;5;124;03m    \"\"\"\u001b[39;00m\n\u001b[1;32m--> 317\u001b[0m     \u001b[38;5;28;01mreturn\u001b[39;00m \u001b[43mcollate\u001b[49m\u001b[43m(\u001b[49m\u001b[43mbatch\u001b[49m\u001b[43m,\u001b[49m\u001b[43m \u001b[49m\u001b[43mcollate_fn_map\u001b[49m\u001b[38;5;241;43m=\u001b[39;49m\u001b[43mdefault_collate_fn_map\u001b[49m\u001b[43m)\u001b[49m\n",
      "File \u001b[1;32m~\\AppData\\Local\\Packages\\PythonSoftwareFoundation.Python.3.11_qbz5n2kfra8p0\\LocalCache\\local-packages\\Python311\\site-packages\\torch\\utils\\data\\_utils\\collate.py:174\u001b[0m, in \u001b[0;36mcollate\u001b[1;34m(batch, collate_fn_map)\u001b[0m\n\u001b[0;32m    171\u001b[0m transposed \u001b[38;5;241m=\u001b[39m \u001b[38;5;28mlist\u001b[39m(\u001b[38;5;28mzip\u001b[39m(\u001b[38;5;241m*\u001b[39mbatch))  \u001b[38;5;66;03m# It may be accessed twice, so we use a list.\u001b[39;00m\n\u001b[0;32m    173\u001b[0m \u001b[38;5;28;01mif\u001b[39;00m \u001b[38;5;28misinstance\u001b[39m(elem, \u001b[38;5;28mtuple\u001b[39m):\n\u001b[1;32m--> 174\u001b[0m     \u001b[38;5;28;01mreturn\u001b[39;00m \u001b[43m[\u001b[49m\u001b[43mcollate\u001b[49m\u001b[43m(\u001b[49m\u001b[43msamples\u001b[49m\u001b[43m,\u001b[49m\u001b[43m \u001b[49m\u001b[43mcollate_fn_map\u001b[49m\u001b[38;5;241;43m=\u001b[39;49m\u001b[43mcollate_fn_map\u001b[49m\u001b[43m)\u001b[49m\u001b[43m \u001b[49m\u001b[38;5;28;43;01mfor\u001b[39;49;00m\u001b[43m \u001b[49m\u001b[43msamples\u001b[49m\u001b[43m \u001b[49m\u001b[38;5;129;43;01min\u001b[39;49;00m\u001b[43m \u001b[49m\u001b[43mtransposed\u001b[49m\u001b[43m]\u001b[49m  \u001b[38;5;66;03m# Backwards compatibility.\u001b[39;00m\n\u001b[0;32m    175\u001b[0m \u001b[38;5;28;01melse\u001b[39;00m:\n\u001b[0;32m    176\u001b[0m     \u001b[38;5;28;01mtry\u001b[39;00m:\n",
      "File \u001b[1;32m~\\AppData\\Local\\Packages\\PythonSoftwareFoundation.Python.3.11_qbz5n2kfra8p0\\LocalCache\\local-packages\\Python311\\site-packages\\torch\\utils\\data\\_utils\\collate.py:174\u001b[0m, in \u001b[0;36m<listcomp>\u001b[1;34m(.0)\u001b[0m\n\u001b[0;32m    171\u001b[0m transposed \u001b[38;5;241m=\u001b[39m \u001b[38;5;28mlist\u001b[39m(\u001b[38;5;28mzip\u001b[39m(\u001b[38;5;241m*\u001b[39mbatch))  \u001b[38;5;66;03m# It may be accessed twice, so we use a list.\u001b[39;00m\n\u001b[0;32m    173\u001b[0m \u001b[38;5;28;01mif\u001b[39;00m \u001b[38;5;28misinstance\u001b[39m(elem, \u001b[38;5;28mtuple\u001b[39m):\n\u001b[1;32m--> 174\u001b[0m     \u001b[38;5;28;01mreturn\u001b[39;00m [\u001b[43mcollate\u001b[49m\u001b[43m(\u001b[49m\u001b[43msamples\u001b[49m\u001b[43m,\u001b[49m\u001b[43m \u001b[49m\u001b[43mcollate_fn_map\u001b[49m\u001b[38;5;241;43m=\u001b[39;49m\u001b[43mcollate_fn_map\u001b[49m\u001b[43m)\u001b[49m \u001b[38;5;28;01mfor\u001b[39;00m samples \u001b[38;5;129;01min\u001b[39;00m transposed]  \u001b[38;5;66;03m# Backwards compatibility.\u001b[39;00m\n\u001b[0;32m    175\u001b[0m \u001b[38;5;28;01melse\u001b[39;00m:\n\u001b[0;32m    176\u001b[0m     \u001b[38;5;28;01mtry\u001b[39;00m:\n",
      "File \u001b[1;32m~\\AppData\\Local\\Packages\\PythonSoftwareFoundation.Python.3.11_qbz5n2kfra8p0\\LocalCache\\local-packages\\Python311\\site-packages\\torch\\utils\\data\\_utils\\collate.py:142\u001b[0m, in \u001b[0;36mcollate\u001b[1;34m(batch, collate_fn_map)\u001b[0m\n\u001b[0;32m    140\u001b[0m \u001b[38;5;28;01mif\u001b[39;00m collate_fn_map \u001b[38;5;129;01mis\u001b[39;00m \u001b[38;5;129;01mnot\u001b[39;00m \u001b[38;5;28;01mNone\u001b[39;00m:\n\u001b[0;32m    141\u001b[0m     \u001b[38;5;28;01mif\u001b[39;00m elem_type \u001b[38;5;129;01min\u001b[39;00m collate_fn_map:\n\u001b[1;32m--> 142\u001b[0m         \u001b[38;5;28;01mreturn\u001b[39;00m \u001b[43mcollate_fn_map\u001b[49m\u001b[43m[\u001b[49m\u001b[43melem_type\u001b[49m\u001b[43m]\u001b[49m\u001b[43m(\u001b[49m\u001b[43mbatch\u001b[49m\u001b[43m,\u001b[49m\u001b[43m \u001b[49m\u001b[43mcollate_fn_map\u001b[49m\u001b[38;5;241;43m=\u001b[39;49m\u001b[43mcollate_fn_map\u001b[49m\u001b[43m)\u001b[49m\n\u001b[0;32m    144\u001b[0m     \u001b[38;5;28;01mfor\u001b[39;00m collate_type \u001b[38;5;129;01min\u001b[39;00m collate_fn_map:\n\u001b[0;32m    145\u001b[0m         \u001b[38;5;28;01mif\u001b[39;00m \u001b[38;5;28misinstance\u001b[39m(elem, collate_type):\n",
      "File \u001b[1;32m~\\AppData\\Local\\Packages\\PythonSoftwareFoundation.Python.3.11_qbz5n2kfra8p0\\LocalCache\\local-packages\\Python311\\site-packages\\torch\\utils\\data\\_utils\\collate.py:214\u001b[0m, in \u001b[0;36mcollate_tensor_fn\u001b[1;34m(batch, collate_fn_map)\u001b[0m\n\u001b[0;32m    212\u001b[0m     storage \u001b[38;5;241m=\u001b[39m elem\u001b[38;5;241m.\u001b[39m_typed_storage()\u001b[38;5;241m.\u001b[39m_new_shared(numel, device\u001b[38;5;241m=\u001b[39melem\u001b[38;5;241m.\u001b[39mdevice)\n\u001b[0;32m    213\u001b[0m     out \u001b[38;5;241m=\u001b[39m elem\u001b[38;5;241m.\u001b[39mnew(storage)\u001b[38;5;241m.\u001b[39mresize_(\u001b[38;5;28mlen\u001b[39m(batch), \u001b[38;5;241m*\u001b[39m\u001b[38;5;28mlist\u001b[39m(elem\u001b[38;5;241m.\u001b[39msize()))\n\u001b[1;32m--> 214\u001b[0m \u001b[38;5;28;01mreturn\u001b[39;00m \u001b[43mtorch\u001b[49m\u001b[38;5;241;43m.\u001b[39;49m\u001b[43mstack\u001b[49m\u001b[43m(\u001b[49m\u001b[43mbatch\u001b[49m\u001b[43m,\u001b[49m\u001b[43m \u001b[49m\u001b[38;5;241;43m0\u001b[39;49m\u001b[43m,\u001b[49m\u001b[43m \u001b[49m\u001b[43mout\u001b[49m\u001b[38;5;241;43m=\u001b[39;49m\u001b[43mout\u001b[49m\u001b[43m)\u001b[49m\n",
      "\u001b[1;31mRuntimeError\u001b[0m: stack expects each tensor to be equal size, but got [10, 58] at entry 0 and [7, 58] at entry 2"
     ]
    }
   ],
   "source": [
    "# Training initialization\n",
    "init_model()\n",
    "init_epoch()\n",
    "init_log()\n",
    "maximum_epoch = EPOCH\n",
    "\n",
    "# Training iteration\n",
    "\n",
    "while epoch_not_finished():\n",
    "    start_time = time.time()\n",
    "\n",
    "    tloss, tacc = epoch(train_loader, mode = 'train')\n",
    "\n",
    "    end_time = time.time()\n",
    "    time_taken = end_time - start_time\n",
    "    record_train_log(tloss, tacc, time_taken)\n",
    "\n",
    "    with torch.no_grad():\n",
    "        vloss, vacc = epoch(val_loader, mode = 'val')\n",
    "        record_valid_log(vloss, vacc)\n",
    "\n",
    "    print_log()\n",
    "\n",
    "print('\\n Training completed!')"
   ]
  },
  {
   "cell_type": "code",
   "execution_count": null,
   "metadata": {},
   "outputs": [],
   "source": [
    "# 정확도 검증\n",
    "with torch.no_grad():\n",
    "    test_loss, test_acc = epoch(test_loader, mode = 'test')\n",
    "    test_acc = round(test_acc, 4)\n",
    "    test_loss = round(test_loss, 4)\n",
    "    print('Test Acc.: {}'.format(test_acc))\n",
    "    print('Test Loss: {}'.format(test_loss))"
   ]
  },
  {
   "cell_type": "code",
   "execution_count": null,
   "metadata": {},
   "outputs": [],
   "source": [
    "# 영상 resize 및 추출\n",
    "test_video_name = 'C_3_12_43_BU_SMC_10-14_12-17-14_CC_RGB_DF2_F2'\n",
    "test_video_path = f'/content/drive/MyDrive/Colab_Notebooks/Anomaly Detection/{test_video_name}.mp4'\n",
    "cv2.destroyAllWindows()\n",
    "cap = cv2.VideoCapture(test_video_path)\n",
    "img_list = []\n",
    "\n",
    "if cap.isOpened():\n",
    "\n",
    "    while True:\n",
    "        ret, img = cap.read()\n",
    "        if ret:\n",
    "            img = cv2.resize(img, (640, 640))\n",
    "            img_list.append(img)\n",
    "            # cv2_imshow(img)\n",
    "            # cv2.waitKey(1)\n",
    "        else:\n",
    "            break\n",
    "\n",
    "cap.release()\n",
    "cv2.destroyAllWindows()\n",
    "\n",
    "print('저장된 frame의 개수: {}'.format(len(img_list)))"
   ]
  }
 ],
 "metadata": {
  "kernelspec": {
   "display_name": "Python 3",
   "language": "python",
   "name": "python3"
  },
  "language_info": {
   "codemirror_mode": {
    "name": "ipython",
    "version": 3
   },
   "file_extension": ".py",
   "mimetype": "text/x-python",
   "name": "python",
   "nbconvert_exporter": "python",
   "pygments_lexer": "ipython3",
   "version": "3.11.9"
  }
 },
 "nbformat": 4,
 "nbformat_minor": 2
}
